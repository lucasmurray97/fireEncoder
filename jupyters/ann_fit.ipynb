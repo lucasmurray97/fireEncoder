{
 "cells": [
  {
   "cell_type": "code",
   "execution_count": 4,
   "id": "ac90b283-e00d-49ec-b983-da8f86772f9c",
   "metadata": {},
   "outputs": [],
   "source": [
    "import torch\n",
    "import torch.nn as nn\n",
    "import torchvision\n",
    "import torchvision.transforms as T\n",
    "import torchvision.datasets as D\n",
    "import torch.nn.functional as F\n",
    "import numpy as np\n",
    "import pickle\n",
    "from matplotlib import pyplot as plt\n",
    "from utils.utils import MyDataset, show_image, visualise_output\n",
    "import sys\n",
    "sys.path.append(\"..\")\n",
    "from networks.autoencoder import FireAutoencoder\n",
    "from networks.autoencoder_reward import FireAutoencoder_reward\n",
    "import matplotlib\n",
    "from sklearn.linear_model import LinearRegression\n",
    "from sklearn.metrics import mean_squared_error\n",
    "import scipy"
   ]
  },
  {
   "cell_type": "code",
   "execution_count": 5,
   "id": "f12fd07a-97f1-4ac7-b18e-63331acd9fa8",
   "metadata": {},
   "outputs": [],
   "source": [
    "dataset = MyDataset(root='../data/complete_random/homo_2/Sub20x20_full_grid_.pkl',\n",
    "                             tform=lambda x: torch.from_numpy(x, dtype=torch.float))"
   ]
  },
  {
   "cell_type": "code",
   "execution_count": 30,
   "id": "e7276ce5-32a8-4681-a7bf-184295d2b189",
   "metadata": {},
   "outputs": [
    {
     "data": {
      "text/plain": [
       "<All keys matched successfully>"
      ]
     },
     "execution_count": 30,
     "metadata": {},
     "output_type": "execute_result"
    }
   ],
   "source": [
    "latent_dims = 256\n",
    "capacity = latent_dims//2 \n",
    "input_size = 20\n",
    "epochs = 100\n",
    "sigmoid = False\n",
    "net = FireAutoencoder(capacity, input_size, latent_dims, sigmoid)\n",
    "net.load_state_dict(torch.load(f'weights/v1/homo_2_sub20x20_latent={latent_dims}_capacity={capacity}_{epochs}.pth', map_location=torch.device('cpu')))"
   ]
  },
  {
   "cell_type": "code",
   "execution_count": 31,
   "id": "fbac011b-a01e-4cd5-bb38-eb4f5b5306cb",
   "metadata": {},
   "outputs": [],
   "source": [
    "train_dataset, validation_dataset, test_dataset =torch.utils.data.random_split(dataset, [0.9, 0.05, 0.05])"
   ]
  },
  {
   "cell_type": "code",
   "execution_count": 32,
   "id": "fc0127d2-aab1-49ae-9936-6bc7caf3396e",
   "metadata": {},
   "outputs": [],
   "source": [
    "batch = 16\n",
    "train_loader = torch.utils.data.DataLoader(train_dataset, batch_size=batch, shuffle=False)\n",
    "validation_loader = torch.utils.data.DataLoader(validation_dataset, batch_size=batch, shuffle=False)\n",
    "test_loader = torch.utils.data.DataLoader(train_dataset, batch_size=batch, shuffle=False)"
   ]
  },
  {
   "cell_type": "code",
   "execution_count": 33,
   "id": "0ddc3ba1-6561-4275-9259-feebd164c5fd",
   "metadata": {},
   "outputs": [],
   "source": [
    "full_loader  = torch.utils.data.DataLoader(train_dataset, batch_size=len(train_dataset), shuffle=False)"
   ]
  },
  {
   "cell_type": "code",
   "execution_count": 34,
   "id": "c0986517-dd2e-4342-950b-f39dfacb53ee",
   "metadata": {},
   "outputs": [],
   "source": [
    "all_images, all_r = next(iter(full_loader))"
   ]
  },
  {
   "cell_type": "code",
   "execution_count": 35,
   "id": "99008d1a-8841-4c95-9c85-99bad8990577",
   "metadata": {},
   "outputs": [],
   "source": [
    "embeddings = net.encode(all_images)"
   ]
  },
  {
   "cell_type": "code",
   "execution_count": 36,
   "id": "0ca18756-da14-4b91-8454-30264b8b21ea",
   "metadata": {},
   "outputs": [],
   "source": [
    "import torch\n",
    "import torch.nn as nn\n",
    "import torchvision\n",
    "import torchvision.transforms as T\n",
    "import torchvision.datasets as D\n",
    "import torch.nn.functional as F\n",
    "import numpy as np\n",
    "\n",
    "class ANN(nn.Module):\n",
    "    def __init__(self, latent_dims):\n",
    "        super(ANN, self).__init__()\n",
    "   \n",
    "        # Reward predictor:\n",
    "        self.fc_r1 = nn.Linear(in_features=latent_dims, out_features=128)\n",
    "        self.fc_r2 = nn.Linear(in_features=128, out_features=64)\n",
    "        self.fc_r3 = nn.Linear(in_features=64, out_features=32)\n",
    "        self.fc_r4 = nn.Linear(in_features=32, out_features=1)\n",
    "\n",
    "    \n",
    "    def forward(self, x):\n",
    "        h1 = F.relu(self.fc_r1(x))\n",
    "        h2 = F.relu(self.fc_r2(h1))\n",
    "        h3 = F.relu(self.fc_r3(h2))\n",
    "        reward = self.fc_r4(h3)\n",
    "        return reward\n"
   ]
  },
  {
   "cell_type": "code",
   "execution_count": 37,
   "id": "3d5438bc-6c09-484d-83f6-d067fecaab3b",
   "metadata": {},
   "outputs": [],
   "source": [
    "reward_ann = ANN(latent_dims)"
   ]
  },
  {
   "cell_type": "code",
   "execution_count": 38,
   "id": "db733f1e-38ab-4279-a92f-feb523c362b9",
   "metadata": {},
   "outputs": [],
   "source": [
    "criterion = nn.MSELoss()\n",
    "optimizer = torch.optim.Adam(reward_ann.parameters(), lr = 0.0001)"
   ]
  },
  {
   "cell_type": "code",
   "execution_count": null,
   "id": "ce755ea8-b4cb-4ff3-a3ef-265ab61e0d8d",
   "metadata": {},
   "outputs": [
    {
     "name": "stdout",
     "output_type": "stream",
     "text": [
      "Epoch [1/50], Loss: 115325.7188\n",
      "Epoch [1/50], Validation Loss: 138913.9531\n",
      "Epoch [2/50], Loss: 31163.5449\n",
      "Epoch [2/50], Validation Loss: 49147.2539\n",
      "Epoch [3/50], Loss: 19544.2383\n",
      "Epoch [3/50], Validation Loss: 25858.3164\n",
      "Epoch [4/50], Loss: 10994.1006\n",
      "Epoch [4/50], Validation Loss: 12698.6641\n",
      "Epoch [5/50], Loss: 5946.4868\n",
      "Epoch [5/50], Validation Loss: 6254.0693\n",
      "Epoch [6/50], Loss: 3810.4800\n",
      "Epoch [6/50], Validation Loss: 3885.4492\n",
      "Epoch [7/50], Loss: 3213.9839\n",
      "Epoch [7/50], Validation Loss: 3378.4434\n",
      "Epoch [8/50], Loss: 3086.2876\n",
      "Epoch [8/50], Validation Loss: 3319.9885\n",
      "Epoch [9/50], Loss: 3057.2861\n",
      "Epoch [9/50], Validation Loss: 3311.9207\n",
      "Epoch [10/50], Loss: 3048.7009\n",
      "Epoch [10/50], Validation Loss: 3308.2202\n",
      "Epoch [11/50], Loss: 3045.0935\n",
      "Epoch [11/50], Validation Loss: 3304.8975\n",
      "Epoch [12/50], Loss: 3043.3960\n",
      "Epoch [12/50], Validation Loss: 3302.8699\n",
      "Epoch [13/50], Loss: 3042.1089\n",
      "Epoch [13/50], Validation Loss: 3302.2993\n",
      "Epoch [14/50], Loss: 3041.1543\n",
      "Epoch [14/50], Validation Loss: 3302.3213\n",
      "Epoch [15/50], Loss: 3040.5928\n",
      "Epoch [15/50], Validation Loss: 3302.2471\n",
      "Epoch [16/50], Loss: 3040.0806\n",
      "Epoch [16/50], Validation Loss: 3302.0146\n",
      "Epoch [17/50], Loss: 3039.3557\n",
      "Epoch [17/50], Validation Loss: 3301.9814\n",
      "Epoch [18/50], Loss: 3038.3782\n",
      "Epoch [18/50], Validation Loss: 3302.3054\n",
      "Epoch [19/50], Loss: 3037.9023\n",
      "Epoch [19/50], Validation Loss: 3301.6221\n",
      "Epoch [20/50], Loss: 3037.5122\n",
      "Epoch [20/50], Validation Loss: 3301.8071\n",
      "Epoch [21/50], Loss: 3037.0364\n",
      "Epoch [21/50], Validation Loss: 3301.5732\n",
      "Epoch [22/50], Loss: 3036.3247\n",
      "Epoch [22/50], Validation Loss: 3301.8025\n",
      "Epoch [23/50], Loss: 3035.4844\n",
      "Epoch [23/50], Validation Loss: 3301.2288\n",
      "Epoch [24/50], Loss: 3034.5510\n",
      "Epoch [24/50], Validation Loss: 3301.2966\n",
      "Epoch [25/50], Loss: 3033.8123\n",
      "Epoch [25/50], Validation Loss: 3300.8525\n",
      "Epoch [26/50], Loss: 3031.6238\n",
      "Epoch [26/50], Validation Loss: 3300.5125\n",
      "Epoch [27/50], Loss: 3029.7576\n",
      "Epoch [27/50], Validation Loss: 3300.0771\n",
      "Epoch [28/50], Loss: 3027.8362\n",
      "Epoch [28/50], Validation Loss: 3299.7100\n",
      "Epoch [29/50], Loss: 3025.8779\n",
      "Epoch [29/50], Validation Loss: 3299.9021\n",
      "Epoch [30/50], Loss: 3023.8186\n",
      "Epoch [30/50], Validation Loss: 3299.4607\n"
     ]
    }
   ],
   "source": [
    "device = torch.device('cuda' if torch.cuda.is_available() else 'cpu')\n",
    "reward_ann.to(device)\n",
    "epochs = 50\n",
    "training_loss = []\n",
    "validation_loss = []\n",
    "for epoch in range(epochs):\n",
    "    n = 0\n",
    "    m = 0\n",
    "    epoch_loss = 0\n",
    "    val_epoch_loss = 0\n",
    "    for x, r in train_loader:\n",
    "        embedding = net.encode(x)\n",
    "        r = r.to(device)\n",
    "        output = reward_ann(embedding)\n",
    "        loss = criterion(output.squeeze(), r)\n",
    "        optimizer.zero_grad()\n",
    "        loss.backward()\n",
    "        optimizer.step()\n",
    "        epoch_loss += loss.item()\n",
    "        n += 1\n",
    "    \n",
    "    for y, r in validation_loader:\n",
    "        embedding = net.encode(y)\n",
    "        r = r.to(device)\n",
    "        output = reward_ann(embedding)\n",
    "        val_loss = criterion(output.squeeze(),r)\n",
    "        optimizer.zero_grad()\n",
    "        val_epoch_loss += val_loss.item()\n",
    "        m+=1\n",
    "    training_loss.append(epoch_loss/n)\n",
    "    validation_loss.append(val_epoch_loss/m)\n",
    "    print('Epoch [{}/{}], Loss: {:.4f}'.format(epoch+1, epochs, loss.item()))\n",
    "    print('Epoch [{}/{}], Validation Loss: {:.4f}'.format(epoch+1, epochs, val_loss.item()))"
   ]
  },
  {
   "cell_type": "code",
   "execution_count": null,
   "id": "941fb346-91c7-4169-9fd1-74acac7e14b9",
   "metadata": {},
   "outputs": [],
   "source": [
    "plt.ion()\n",
    "fig = plt.figure()\n",
    "plt.plot(training_loss[1:], label='training loss')\n",
    "plt.plot(validation_loss[1:], label='validation loss')\n",
    "plt.xlabel('Epochs')\n",
    "plt.ylabel('Loss')\n",
    "plt.show()"
   ]
  },
  {
   "cell_type": "code",
   "execution_count": null,
   "id": "5e7dc2a3-76f9-4a4e-86f4-554c2cd26d16",
   "metadata": {},
   "outputs": [],
   "source": [
    "embeddings = net.encode(all_images)"
   ]
  },
  {
   "cell_type": "code",
   "execution_count": null,
   "id": "897bbb74-756e-490b-9041-86a2d7cf2837",
   "metadata": {},
   "outputs": [],
   "source": [
    "with torch.no_grad():\n",
    "    rewards = reward_ann(embeddings)"
   ]
  },
  {
   "cell_type": "code",
   "execution_count": null,
   "id": "824d2618-c324-4cbf-8a1d-617430cbeb05",
   "metadata": {},
   "outputs": [],
   "source": [
    "bins = np.arange(-1020, -500, 10)\n",
    "plt.hist(rewards.squeeze().numpy(), bins=bins, align='left')\n",
    "plt.title('Distribución de las recompensas predecidas')\n",
    "plt.xlabel('Recompensa')\n",
    "plt.ylabel('Frecuencia')\n",
    "#plt.savefig(f\"linear_regresion/reward_classes_distr_{latent_dims}_{epochs}_sigmoid={sigmoid}.png.png\")\n",
    "plt.show()"
   ]
  },
  {
   "cell_type": "code",
   "execution_count": null,
   "id": "ee7fbb08-7a58-4af3-9a48-feccb5386306",
   "metadata": {},
   "outputs": [],
   "source": [
    "def ann(x):\n",
    "    return reward_ann(torch.from_numpy(x).float()).detach().numpy()"
   ]
  },
  {
   "cell_type": "code",
   "execution_count": null,
   "id": "307d0983-0c6a-4f2b-84ea-1a954b045768",
   "metadata": {},
   "outputs": [],
   "source": [
    "res = scipy.optimize.minimize(ann, x0=np.zeros(latent_dims))"
   ]
  },
  {
   "cell_type": "code",
   "execution_count": null,
   "id": "1c16fa29-c4eb-494c-8699-f5df6d560096",
   "metadata": {},
   "outputs": [],
   "source": [
    "res"
   ]
  },
  {
   "cell_type": "code",
   "execution_count": null,
   "id": "8598c197-ff10-4296-bffc-e4b6884cbb97",
   "metadata": {},
   "outputs": [],
   "source": [
    "minimum = torch.from_numpy(res.x)"
   ]
  },
  {
   "cell_type": "code",
   "execution_count": null,
   "id": "8a969de4-660d-410a-8846-b4332f88ed2d",
   "metadata": {},
   "outputs": [],
   "source": [
    "net.float()"
   ]
  },
  {
   "cell_type": "code",
   "execution_count": null,
   "id": "e66c02ad-93cd-47a3-8db5-e802aaad23fa",
   "metadata": {},
   "outputs": [],
   "source": [
    "solution = net.decode(minimum.float().unsqueeze(0))"
   ]
  },
  {
   "cell_type": "code",
   "execution_count": null,
   "id": "382b4439-95a7-41dd-9549-e0961bd66cb2",
   "metadata": {},
   "outputs": [],
   "source": [
    "solution"
   ]
  },
  {
   "cell_type": "code",
   "execution_count": null,
   "id": "12848f4c-25be-414b-ba7b-98aeedfedb54",
   "metadata": {},
   "outputs": [],
   "source": [
    "if sigmoid:\n",
    "    solution[solution>=0.5] = 1\n",
    "    solution[solution<=0.5] = 0\n",
    "else:\n",
    "    solution[solution>0] = 1"
   ]
  },
  {
   "cell_type": "code",
   "execution_count": null,
   "id": "05890e8c-4b29-4df9-88ab-cfad05abacb5",
   "metadata": {},
   "outputs": [],
   "source": [
    "with torch.no_grad():\n",
    "        plt.title('Reconstrucción del mínimo')\n",
    "        plt.imshow(solution[0][0].numpy())\n",
    "        #plt.savefig(f\"linear_regresion/minimum_decoding_{latent_dims}_{epochs}_sigmoid={sigmoid}.png\")\n",
    "        plt.colorbar()\n",
    "        plt.show()"
   ]
  },
  {
   "cell_type": "code",
   "execution_count": null,
   "id": "5a0255b4-0c95-46b5-b5ce-e73c3670b480",
   "metadata": {},
   "outputs": [],
   "source": [
    "with torch.no_grad():\n",
    "    print(repr(solution[0][0].numpy()))"
   ]
  },
  {
   "cell_type": "code",
   "execution_count": null,
   "id": "03c1bf13-b9a5-4454-8bf4-732e68e4bff0",
   "metadata": {},
   "outputs": [],
   "source": []
  }
 ],
 "metadata": {
  "kernelspec": {
   "display_name": "Python 3 (ipykernel)",
   "language": "python",
   "name": "python3"
  },
  "language_info": {
   "codemirror_mode": {
    "name": "ipython",
    "version": 3
   },
   "file_extension": ".py",
   "mimetype": "text/x-python",
   "name": "python",
   "nbconvert_exporter": "python",
   "pygments_lexer": "ipython3",
   "version": "3.11.6"
  }
 },
 "nbformat": 4,
 "nbformat_minor": 5
}
