{
 "cells": [
  {
   "cell_type": "code",
   "execution_count": 1,
   "id": "ac90b283-e00d-49ec-b983-da8f86772f9c",
   "metadata": {},
   "outputs": [],
   "source": [
    "import torch\n",
    "import torch.nn as nn\n",
    "import torchvision\n",
    "import torchvision.transforms as T\n",
    "import torchvision.datasets as D\n",
    "import torch.nn.functional as F\n",
    "import numpy as np\n",
    "import pickle\n",
    "from matplotlib import pyplot as plt\n",
    "from utils.utils import MyDataset, show_image, visualise_output\n",
    "import sys\n",
    "sys.path.append(\"..\")\n",
    "from networks.autoencoder import FireAutoencoder\n",
    "from networks.autoencoder_reward import FireAutoencoder_reward\n",
    "import matplotlib\n",
    "from sklearn.linear_model import LinearRegression\n",
    "from sklearn.metrics import mean_squared_error\n",
    "import scipy"
   ]
  },
  {
   "cell_type": "code",
   "execution_count": 2,
   "id": "f12fd07a-97f1-4ac7-b18e-63331acd9fa8",
   "metadata": {},
   "outputs": [],
   "source": [
    "dataset = MyDataset(root='../data/complete_random/homo_2/Sub20x20_full_grid_.pkl',\n",
    "                             tform=lambda x: torch.from_numpy(x, dtype=torch.float))"
   ]
  },
  {
   "cell_type": "code",
   "execution_count": 4,
   "id": "e7276ce5-32a8-4681-a7bf-184295d2b189",
   "metadata": {},
   "outputs": [
    {
     "data": {
      "text/plain": [
       "<All keys matched successfully>"
      ]
     },
     "execution_count": 4,
     "metadata": {},
     "output_type": "execute_result"
    }
   ],
   "source": [
    "latent_dims = 256\n",
    "capacity = latent_dims//2 \n",
    "input_size = 20\n",
    "epochs = 100\n",
    "sigmoid = False\n",
    "net = FireAutoencoder(capacity, input_size, latent_dims, sigmoid)\n",
    "net.load_state_dict(torch.load(f'weights/v1/homo_2_sub20x20_latent={latent_dims}_capacity={capacity}_{epochs}_sigmoid={sigmoid}.pth', map_location=torch.device('cpu')))"
   ]
  },
  {
   "cell_type": "code",
   "execution_count": 5,
   "id": "fbac011b-a01e-4cd5-bb38-eb4f5b5306cb",
   "metadata": {},
   "outputs": [],
   "source": [
    "train_dataset, validation_dataset, test_dataset =torch.utils.data.random_split(dataset, [0.9, 0.05, 0.05])"
   ]
  },
  {
   "cell_type": "code",
   "execution_count": 6,
   "id": "fc0127d2-aab1-49ae-9936-6bc7caf3396e",
   "metadata": {},
   "outputs": [],
   "source": [
    "batch = 16\n",
    "train_loader = torch.utils.data.DataLoader(train_dataset, batch_size=batch, shuffle=False)\n",
    "validation_loader = torch.utils.data.DataLoader(validation_dataset, batch_size=batch, shuffle=False)\n",
    "test_loader = torch.utils.data.DataLoader(train_dataset, batch_size=batch, shuffle=False)"
   ]
  },
  {
   "cell_type": "code",
   "execution_count": 7,
   "id": "0ddc3ba1-6561-4275-9259-feebd164c5fd",
   "metadata": {},
   "outputs": [],
   "source": [
    "full_loader  = torch.utils.data.DataLoader(train_dataset, batch_size=len(train_dataset), shuffle=False)"
   ]
  },
  {
   "cell_type": "code",
   "execution_count": 8,
   "id": "c0986517-dd2e-4342-950b-f39dfacb53ee",
   "metadata": {},
   "outputs": [],
   "source": [
    "all_images, all_r = next(iter(full_loader))"
   ]
  },
  {
   "cell_type": "code",
   "execution_count": 9,
   "id": "99008d1a-8841-4c95-9c85-99bad8990577",
   "metadata": {},
   "outputs": [],
   "source": [
    "embeddings = net.encode(all_images)"
   ]
  },
  {
   "cell_type": "code",
   "execution_count": 13,
   "id": "0ca18756-da14-4b91-8454-30264b8b21ea",
   "metadata": {},
   "outputs": [],
   "source": [
    "import torch\n",
    "import torch.nn as nn\n",
    "import torchvision\n",
    "import torchvision.transforms as T\n",
    "import torchvision.datasets as D\n",
    "import torch.nn.functional as F\n",
    "import numpy as np\n",
    "\n",
    "class ANN(nn.Module):\n",
    "    def __init__(self, latent_dims, capacity):\n",
    "        super(ANN, self).__init__()\n",
    "   \n",
    "        # Reward predictor:\n",
    "        self.fc_r1 = nn.Linear(in_features=latent_dims, out_features=capacity)\n",
    "        self.fc_r2 = nn.Linear(in_features=capacity, out_features=capacity//2)\n",
    "        self.fc_r3 = nn.Linear(in_features=capacity//2, out_features=capacity//4)\n",
    "        self.fc_r4 = nn.Linear(in_features=capacity//4, out_features=1)\n",
    "\n",
    "    \n",
    "    def forward(self, x):\n",
    "        h1 = F.relu(self.fc_r1(x))\n",
    "        h2 = F.relu(self.fc_r2(h1))\n",
    "        h3 = F.relu(self.fc_r3(h2))\n",
    "        reward = self.fc_r4(h3)\n",
    "        return reward\n"
   ]
  },
  {
   "cell_type": "code",
   "execution_count": 14,
   "id": "3d5438bc-6c09-484d-83f6-d067fecaab3b",
   "metadata": {},
   "outputs": [],
   "source": [
    "reward_ann = ANN(latent_dims,capacity=64)"
   ]
  },
  {
   "cell_type": "code",
   "execution_count": 15,
   "id": "db733f1e-38ab-4279-a92f-feb523c362b9",
   "metadata": {},
   "outputs": [],
   "source": [
    "criterion = nn.MSELoss()\n",
    "optimizer = torch.optim.Adam(reward_ann.parameters(), lr = 0.0001)"
   ]
  },
  {
   "cell_type": "code",
   "execution_count": 16,
   "id": "ce755ea8-b4cb-4ff3-a3ef-265ab61e0d8d",
   "metadata": {},
   "outputs": [
    {
     "name": "stdout",
     "output_type": "stream",
     "text": [
      "Epoch [1/50], Loss: 553303.5000\n",
      "Epoch [1/50], Validation Loss: 600717.2500\n",
      "Epoch [2/50], Loss: 279086.8125\n",
      "Epoch [2/50], Validation Loss: 248029.7969\n",
      "Epoch [3/50], Loss: 87168.4844\n",
      "Epoch [3/50], Validation Loss: 97320.7031\n",
      "Epoch [4/50], Loss: 57182.9023\n",
      "Epoch [4/50], Validation Loss: 81424.2344\n",
      "Epoch [5/50], Loss: 39405.8164\n",
      "Epoch [5/50], Validation Loss: 61906.6562\n"
     ]
    },
    {
     "ename": "KeyboardInterrupt",
     "evalue": "",
     "output_type": "error",
     "traceback": [
      "\u001b[0;31m---------------------------------------------------------------------------\u001b[0m",
      "\u001b[0;31mKeyboardInterrupt\u001b[0m                         Traceback (most recent call last)",
      "Cell \u001b[0;32mIn[16], line 17\u001b[0m\n\u001b[1;32m     15\u001b[0m loss \u001b[38;5;241m=\u001b[39m criterion(output\u001b[38;5;241m.\u001b[39msqueeze(), r)\n\u001b[1;32m     16\u001b[0m optimizer\u001b[38;5;241m.\u001b[39mzero_grad()\n\u001b[0;32m---> 17\u001b[0m \u001b[43mloss\u001b[49m\u001b[38;5;241;43m.\u001b[39;49m\u001b[43mbackward\u001b[49m\u001b[43m(\u001b[49m\u001b[43m)\u001b[49m\n\u001b[1;32m     18\u001b[0m optimizer\u001b[38;5;241m.\u001b[39mstep()\n\u001b[1;32m     19\u001b[0m epoch_loss \u001b[38;5;241m+\u001b[39m\u001b[38;5;241m=\u001b[39m loss\u001b[38;5;241m.\u001b[39mitem()\n",
      "File \u001b[0;32m~/.pyenv/versions/3.11.6/lib/python3.11/site-packages/torch/_tensor.py:487\u001b[0m, in \u001b[0;36mTensor.backward\u001b[0;34m(self, gradient, retain_graph, create_graph, inputs)\u001b[0m\n\u001b[1;32m    477\u001b[0m \u001b[38;5;28;01mif\u001b[39;00m has_torch_function_unary(\u001b[38;5;28mself\u001b[39m):\n\u001b[1;32m    478\u001b[0m     \u001b[38;5;28;01mreturn\u001b[39;00m handle_torch_function(\n\u001b[1;32m    479\u001b[0m         Tensor\u001b[38;5;241m.\u001b[39mbackward,\n\u001b[1;32m    480\u001b[0m         (\u001b[38;5;28mself\u001b[39m,),\n\u001b[0;32m   (...)\u001b[0m\n\u001b[1;32m    485\u001b[0m         inputs\u001b[38;5;241m=\u001b[39minputs,\n\u001b[1;32m    486\u001b[0m     )\n\u001b[0;32m--> 487\u001b[0m \u001b[43mtorch\u001b[49m\u001b[38;5;241;43m.\u001b[39;49m\u001b[43mautograd\u001b[49m\u001b[38;5;241;43m.\u001b[39;49m\u001b[43mbackward\u001b[49m\u001b[43m(\u001b[49m\n\u001b[1;32m    488\u001b[0m \u001b[43m    \u001b[49m\u001b[38;5;28;43mself\u001b[39;49m\u001b[43m,\u001b[49m\u001b[43m \u001b[49m\u001b[43mgradient\u001b[49m\u001b[43m,\u001b[49m\u001b[43m \u001b[49m\u001b[43mretain_graph\u001b[49m\u001b[43m,\u001b[49m\u001b[43m \u001b[49m\u001b[43mcreate_graph\u001b[49m\u001b[43m,\u001b[49m\u001b[43m \u001b[49m\u001b[43minputs\u001b[49m\u001b[38;5;241;43m=\u001b[39;49m\u001b[43minputs\u001b[49m\n\u001b[1;32m    489\u001b[0m \u001b[43m\u001b[49m\u001b[43m)\u001b[49m\n",
      "File \u001b[0;32m~/.pyenv/versions/3.11.6/lib/python3.11/site-packages/torch/autograd/__init__.py:200\u001b[0m, in \u001b[0;36mbackward\u001b[0;34m(tensors, grad_tensors, retain_graph, create_graph, grad_variables, inputs)\u001b[0m\n\u001b[1;32m    195\u001b[0m     retain_graph \u001b[38;5;241m=\u001b[39m create_graph\n\u001b[1;32m    197\u001b[0m \u001b[38;5;66;03m# The reason we repeat same the comment below is that\u001b[39;00m\n\u001b[1;32m    198\u001b[0m \u001b[38;5;66;03m# some Python versions print out the first line of a multi-line function\u001b[39;00m\n\u001b[1;32m    199\u001b[0m \u001b[38;5;66;03m# calls in the traceback and some print out the last line\u001b[39;00m\n\u001b[0;32m--> 200\u001b[0m \u001b[43mVariable\u001b[49m\u001b[38;5;241;43m.\u001b[39;49m\u001b[43m_execution_engine\u001b[49m\u001b[38;5;241;43m.\u001b[39;49m\u001b[43mrun_backward\u001b[49m\u001b[43m(\u001b[49m\u001b[43m  \u001b[49m\u001b[38;5;66;43;03m# Calls into the C++ engine to run the backward pass\u001b[39;49;00m\n\u001b[1;32m    201\u001b[0m \u001b[43m    \u001b[49m\u001b[43mtensors\u001b[49m\u001b[43m,\u001b[49m\u001b[43m \u001b[49m\u001b[43mgrad_tensors_\u001b[49m\u001b[43m,\u001b[49m\u001b[43m \u001b[49m\u001b[43mretain_graph\u001b[49m\u001b[43m,\u001b[49m\u001b[43m \u001b[49m\u001b[43mcreate_graph\u001b[49m\u001b[43m,\u001b[49m\u001b[43m \u001b[49m\u001b[43minputs\u001b[49m\u001b[43m,\u001b[49m\n\u001b[1;32m    202\u001b[0m \u001b[43m    \u001b[49m\u001b[43mallow_unreachable\u001b[49m\u001b[38;5;241;43m=\u001b[39;49m\u001b[38;5;28;43;01mTrue\u001b[39;49;00m\u001b[43m,\u001b[49m\u001b[43m \u001b[49m\u001b[43maccumulate_grad\u001b[49m\u001b[38;5;241;43m=\u001b[39;49m\u001b[38;5;28;43;01mTrue\u001b[39;49;00m\u001b[43m)\u001b[49m\n",
      "\u001b[0;31mKeyboardInterrupt\u001b[0m: "
     ]
    }
   ],
   "source": [
    "device = torch.device('cuda' if torch.cuda.is_available() else 'cpu')\n",
    "reward_ann.to(device)\n",
    "epochs = 50\n",
    "training_loss = []\n",
    "validation_loss = []\n",
    "for epoch in range(epochs):\n",
    "    n = 0\n",
    "    m = 0\n",
    "    epoch_loss = 0\n",
    "    val_epoch_loss = 0\n",
    "    for x, r in train_loader:\n",
    "        embedding = net.encode(x)\n",
    "        r = r.to(device)\n",
    "        output = reward_ann(embedding)\n",
    "        loss = criterion(output.squeeze(), r)\n",
    "        optimizer.zero_grad()\n",
    "        loss.backward()\n",
    "        optimizer.step()\n",
    "        epoch_loss += loss.item()\n",
    "        n += 1\n",
    "    \n",
    "    for y, r in validation_loader:\n",
    "        embedding = net.encode(y)\n",
    "        r = r.to(device)\n",
    "        output = reward_ann(embedding)\n",
    "        val_loss = criterion(output.squeeze(),r)\n",
    "        optimizer.zero_grad()\n",
    "        val_epoch_loss += val_loss.item()\n",
    "        m+=1\n",
    "    training_loss.append(epoch_loss/n)\n",
    "    validation_loss.append(val_epoch_loss/m)\n",
    "    print('Epoch [{}/{}], Loss: {:.4f}'.format(epoch+1, epochs, loss.item()))\n",
    "    print('Epoch [{}/{}], Validation Loss: {:.4f}'.format(epoch+1, epochs, val_loss.item()))"
   ]
  },
  {
   "cell_type": "code",
   "execution_count": 17,
   "id": "941fb346-91c7-4169-9fd1-74acac7e14b9",
   "metadata": {},
   "outputs": [
    {
     "data": {
      "image/png": "[encoded data removed]",
      "text/plain": [
       "<Figure size 640x480 with 1 Axes>"
      ]
     },
     "metadata": {},
     "output_type": "display_data"
    }
   ],
   "source": [
    "plt.ion()\n",
    "fig = plt.figure()\n",
    "plt.plot(training_loss[1:], label='training loss')\n",
    "plt.plot(validation_loss[1:], label='validation loss')\n",
    "plt.xlabel('Epochs')\n",
    "plt.ylabel('Loss')\n",
    "plt.legend()\n",
    "plt.show()"
   ]
  },
  {
   "cell_type": "code",
   "execution_count": 18,
   "id": "5e7dc2a3-76f9-4a4e-86f4-554c2cd26d16",
   "metadata": {},
   "outputs": [],
   "source": [
    "embeddings = net.encode(all_images)"
   ]
  },
  {
   "cell_type": "code",
   "execution_count": 19,
   "id": "897bbb74-756e-490b-9041-86a2d7cf2837",
   "metadata": {},
   "outputs": [],
   "source": [
    "with torch.no_grad():\n",
    "    rewards = reward_ann(embeddings)"
   ]
  },
  {
   "cell_type": "code",
   "execution_count": 20,
   "id": "824d2618-c324-4cbf-8a1d-617430cbeb05",
   "metadata": {},
   "outputs": [
    {
     "data": {
      "image/png": "[encoded data removed]",
      "text/plain": [
       "<Figure size 640x480 with 1 Axes>"
      ]
     },
     "metadata": {},
     "output_type": "display_data"
    }
   ],
   "source": [
    "bins = np.arange(-1020, -500, 10)\n",
    "plt.hist(rewards.squeeze().numpy(), bins=bins, align='left')\n",
    "plt.title('Distribución de las recompensas predecidas')\n",
    "plt.xlabel('Recompensa')\n",
    "plt.ylabel('Frecuencia')\n",
    "#plt.savefig(f\"linear_regresion/reward_classes_distr_{latent_dims}_{epochs}_sigmoid={sigmoid}.png.png\")\n",
    "plt.show()"
   ]
  },
  {
   "cell_type": "code",
   "execution_count": 21,
   "id": "ee7fbb08-7a58-4af3-9a48-feccb5386306",
   "metadata": {},
   "outputs": [],
   "source": [
    "def ann(x):\n",
    "    return reward_ann(torch.from_numpy(x).float()).detach().numpy()"
   ]
  },
  {
   "cell_type": "code",
   "execution_count": 22,
   "id": "307d0983-0c6a-4f2b-84ea-1a954b045768",
   "metadata": {},
   "outputs": [],
   "source": [
    "res = scipy.optimize.minimize(ann, x0=np.zeros(latent_dims))"
   ]
  },
  {
   "cell_type": "code",
   "execution_count": 23,
   "id": "1c16fa29-c4eb-494c-8699-f5df6d560096",
   "metadata": {},
   "outputs": [
    {
     "data": {
      "text/plain": [
       "  message: Optimization terminated successfully.\n",
       "  success: True\n",
       "   status: 0\n",
       "      fun: -559.7499389648438\n",
       "        x: [ 0.000e+00  0.000e+00 ...  0.000e+00  0.000e+00]\n",
       "      nit: 0\n",
       "      jac: [ 0.000e+00  0.000e+00 ...  0.000e+00  0.000e+00]\n",
       " hess_inv: [[1 0 ... 0 0]\n",
       "            [0 1 ... 0 0]\n",
       "            ...\n",
       "            [0 0 ... 1 0]\n",
       "            [0 0 ... 0 1]]\n",
       "     nfev: 257\n",
       "     njev: 1"
      ]
     },
     "execution_count": 23,
     "metadata": {},
     "output_type": "execute_result"
    }
   ],
   "source": [
    "res"
   ]
  },
  {
   "cell_type": "code",
   "execution_count": 24,
   "id": "8598c197-ff10-4296-bffc-e4b6884cbb97",
   "metadata": {},
   "outputs": [],
   "source": [
    "minimum = torch.from_numpy(res.x)"
   ]
  },
  {
   "cell_type": "code",
   "execution_count": 25,
   "id": "8a969de4-660d-410a-8846-b4332f88ed2d",
   "metadata": {},
   "outputs": [
    {
     "data": {
      "text/plain": [
       "FireAutoencoder(\n",
       "  (conv1): Conv2d(1, 128, kernel_size=(4, 4), stride=(2, 2), padding=(1, 1))\n",
       "  (conv2): Conv2d(128, 256, kernel_size=(4, 4), stride=(2, 2), padding=(1, 1))\n",
       "  (fc): Linear(in_features=6400, out_features=256, bias=True)\n",
       "  (fc_2): Linear(in_features=256, out_features=6400, bias=True)\n",
       "  (conv1_2): ConvTranspose2d(256, 128, kernel_size=(4, 4), stride=(2, 2), padding=(1, 1))\n",
       "  (conv2_2): ConvTranspose2d(128, 1, kernel_size=(4, 4), stride=(2, 2), padding=(1, 1))\n",
       ")"
      ]
     },
     "execution_count": 25,
     "metadata": {},
     "output_type": "execute_result"
    }
   ],
   "source": [
    "net.float()"
   ]
  },
  {
   "cell_type": "code",
   "execution_count": 26,
   "id": "e66c02ad-93cd-47a3-8db5-e802aaad23fa",
   "metadata": {},
   "outputs": [],
   "source": [
    "solution = net.decode(minimum.float().unsqueeze(0))"
   ]
  },
  {
   "cell_type": "code",
   "execution_count": 27,
   "id": "382b4439-95a7-41dd-9549-e0961bd66cb2",
   "metadata": {},
   "outputs": [
    {
     "data": {
      "text/plain": [
       "tensor([[[[0., 0., 0., 0., 0., 0., 0., 0., 0., 0., 0., 0., 0., 0., 0., 0., 0., 0., 0., 0.],\n",
       "          [0., 0., 0., 0., 0., 0., 0., 0., 0., 0., 0., 0., 0., 0., 0., 0., 0., 0., 0., 0.],\n",
       "          [0., 0., 0., 0., 0., 0., 0., 0., 0., 0., 0., 0., 0., 0., 0., 0., 0., 0., 0., 0.],\n",
       "          [0., 0., 0., 0., 0., 0., 0., 0., 0., 0., 0., 0., 0., 0., 0., 0., 0., 0., 0., 0.],\n",
       "          [0., 0., 0., 0., 0., 0., 0., 0., 0., 0., 0., 0., 0., 0., 0., 0., 0., 0., 0., 0.],\n",
       "          [0., 0., 0., 0., 0., 0., 0., 0., 0., 0., 0., 0., 0., 0., 0., 0., 0., 0., 0., 0.],\n",
       "          [0., 0., 0., 0., 0., 0., 0., 0., 0., 0., 0., 0., 0., 0., 0., 0., 0., 0., 0., 0.],\n",
       "          [0., 0., 0., 0., 0., 0., 0., 0., 0., 0., 0., 0., 0., 0., 0., 0., 0., 0., 0., 0.],\n",
       "          [0., 0., 0., 0., 0., 0., 0., 0., 0., 0., 0., 0., 0., 0., 0., 0., 0., 0., 0., 0.],\n",
       "          [0., 0., 0., 0., 0., 0., 0., 0., 0., 0., 0., 0., 0., 0., 0., 0., 0., 0., 0., 0.],\n",
       "          [0., 0., 0., 0., 0., 0., 0., 0., 0., 0., 0., 0., 0., 0., 0., 0., 0., 0., 0., 0.],\n",
       "          [0., 0., 0., 0., 0., 0., 0., 0., 0., 0., 0., 0., 0., 0., 0., 0., 0., 0., 0., 0.],\n",
       "          [0., 0., 0., 0., 0., 0., 0., 0., 0., 0., 0., 0., 0., 0., 0., 0., 0., 0., 0., 0.],\n",
       "          [0., 0., 0., 0., 0., 0., 0., 0., 0., 0., 0., 0., 0., 0., 0., 0., 0., 0., 0., 0.],\n",
       "          [0., 0., 0., 0., 0., 0., 0., 0., 0., 0., 0., 0., 0., 0., 0., 0., 0., 0., 0., 0.],\n",
       "          [0., 0., 0., 0., 0., 0., 0., 0., 0., 0., 0., 0., 0., 0., 0., 0., 0., 0., 0., 0.],\n",
       "          [0., 0., 0., 0., 0., 0., 0., 0., 0., 0., 0., 0., 0., 0., 0., 0., 0., 0., 0., 0.],\n",
       "          [0., 0., 0., 0., 0., 0., 0., 0., 0., 0., 0., 0., 0., 0., 0., 0., 0., 0., 0., 0.],\n",
       "          [0., 0., 0., 0., 0., 0., 0., 0., 0., 0., 0., 0., 0., 0., 0., 0., 0., 0., 0., 0.],\n",
       "          [0., 0., 0., 0., 0., 0., 0., 0., 0., 0., 0., 0., 0., 0., 0., 0., 0., 0., 0., 0.]]]],\n",
       "       grad_fn=<ReluBackward0>)"
      ]
     },
     "execution_count": 27,
     "metadata": {},
     "output_type": "execute_result"
    }
   ],
   "source": [
    "solution"
   ]
  },
  {
   "cell_type": "code",
   "execution_count": 28,
   "id": "12848f4c-25be-414b-ba7b-98aeedfedb54",
   "metadata": {},
   "outputs": [],
   "source": [
    "if sigmoid:\n",
    "    solution[solution>=0.5] = 1\n",
    "    solution[solution<=0.5] = 0\n",
    "else:\n",
    "    solution[solution>0] = 1"
   ]
  },
  {
   "cell_type": "code",
   "execution_count": 29,
   "id": "05890e8c-4b29-4df9-88ab-cfad05abacb5",
   "metadata": {},
   "outputs": [
    {
     "data": {
      "image/png": "[encoded data removed]",
      "text/plain": [
       "<Figure size 640x480 with 2 Axes>"
      ]
     },
     "metadata": {},
     "output_type": "display_data"
    }
   ],
   "source": [
    "with torch.no_grad():\n",
    "        plt.title('Reconstrucción del mínimo')\n",
    "        plt.imshow(solution[0][0].numpy())\n",
    "        #plt.savefig(f\"linear_regresion/minimum_decoding_{latent_dims}_{epochs}_sigmoid={sigmoid}.png\")\n",
    "        plt.colorbar()\n",
    "        plt.show()"
   ]
  },
  {
   "cell_type": "code",
   "execution_count": 30,
   "id": "5a0255b4-0c95-46b5-b5ce-e73c3670b480",
   "metadata": {},
   "outputs": [
    {
     "name": "stdout",
     "output_type": "stream",
     "text": [
      "array([[0., 0., 0., 0., 0., 0., 0., 0., 0., 0., 0., 0., 0., 0., 0., 0.,\n",
      "        0., 0., 0., 0.],\n",
      "       [0., 0., 0., 0., 0., 0., 0., 0., 0., 0., 0., 0., 0., 0., 0., 0.,\n",
      "        0., 0., 0., 0.],\n",
      "       [0., 0., 0., 0., 0., 0., 0., 0., 0., 0., 0., 0., 0., 0., 0., 0.,\n",
      "        0., 0., 0., 0.],\n",
      "       [0., 0., 0., 0., 0., 0., 0., 0., 0., 0., 0., 0., 0., 0., 0., 0.,\n",
      "        0., 0., 0., 0.],\n",
      "       [0., 0., 0., 0., 0., 0., 0., 0., 0., 0., 0., 0., 0., 0., 0., 0.,\n",
      "        0., 0., 0., 0.],\n",
      "       [0., 0., 0., 0., 0., 0., 0., 0., 0., 0., 0., 0., 0., 0., 0., 0.,\n",
      "        0., 0., 0., 0.],\n",
      "       [0., 0., 0., 0., 0., 0., 0., 0., 0., 0., 0., 0., 0., 0., 0., 0.,\n",
      "        0., 0., 0., 0.],\n",
      "       [0., 0., 0., 0., 0., 0., 0., 0., 0., 0., 0., 0., 0., 0., 0., 0.,\n",
      "        0., 0., 0., 0.],\n",
      "       [0., 0., 0., 0., 0., 0., 0., 0., 0., 0., 0., 0., 0., 0., 0., 0.,\n",
      "        0., 0., 0., 0.],\n",
      "       [0., 0., 0., 0., 0., 0., 0., 0., 0., 0., 0., 0., 0., 0., 0., 0.,\n",
      "        0., 0., 0., 0.],\n",
      "       [0., 0., 0., 0., 0., 0., 0., 0., 0., 0., 0., 0., 0., 0., 0., 0.,\n",
      "        0., 0., 0., 0.],\n",
      "       [0., 0., 0., 0., 0., 0., 0., 0., 0., 0., 0., 0., 0., 0., 0., 0.,\n",
      "        0., 0., 0., 0.],\n",
      "       [0., 0., 0., 0., 0., 0., 0., 0., 0., 0., 0., 0., 0., 0., 0., 0.,\n",
      "        0., 0., 0., 0.],\n",
      "       [0., 0., 0., 0., 0., 0., 0., 0., 0., 0., 0., 0., 0., 0., 0., 0.,\n",
      "        0., 0., 0., 0.],\n",
      "       [0., 0., 0., 0., 0., 0., 0., 0., 0., 0., 0., 0., 0., 0., 0., 0.,\n",
      "        0., 0., 0., 0.],\n",
      "       [0., 0., 0., 0., 0., 0., 0., 0., 0., 0., 0., 0., 0., 0., 0., 0.,\n",
      "        0., 0., 0., 0.],\n",
      "       [0., 0., 0., 0., 0., 0., 0., 0., 0., 0., 0., 0., 0., 0., 0., 0.,\n",
      "        0., 0., 0., 0.],\n",
      "       [0., 0., 0., 0., 0., 0., 0., 0., 0., 0., 0., 0., 0., 0., 0., 0.,\n",
      "        0., 0., 0., 0.],\n",
      "       [0., 0., 0., 0., 0., 0., 0., 0., 0., 0., 0., 0., 0., 0., 0., 0.,\n",
      "        0., 0., 0., 0.],\n",
      "       [0., 0., 0., 0., 0., 0., 0., 0., 0., 0., 0., 0., 0., 0., 0., 0.,\n",
      "        0., 0., 0., 0.]], dtype=float32)\n"
     ]
    }
   ],
   "source": [
    "with torch.no_grad():\n",
    "    print(repr(solution[0][0].numpy()))"
   ]
  },
  {
   "cell_type": "code",
   "execution_count": null,
   "id": "6c223a82-2b6a-4746-a273-f6110d4e9cf0",
   "metadata": {},
   "outputs": [],
   "source": []
  },
  {
   "cell_type": "code",
   "execution_count": null,
   "id": "ea32389c-bc8b-4181-8601-6204f40498be",
   "metadata": {},
   "outputs": [],
   "source": []
  }
 ],
 "metadata": {
  "kernelspec": {
   "display_name": "Python 3 (ipykernel)",
   "language": "python",
   "name": "python3"
  },
  "language_info": {
   "codemirror_mode": {
    "name": "ipython",
    "version": 3
   },
   "file_extension": ".py",
   "mimetype": "text/x-python",
   "name": "python",
   "nbconvert_exporter": "python",
   "pygments_lexer": "ipython3",
   "version": "3.11.6"
  }
 },
 "nbformat": 4,
 "nbformat_minor": 5
}
