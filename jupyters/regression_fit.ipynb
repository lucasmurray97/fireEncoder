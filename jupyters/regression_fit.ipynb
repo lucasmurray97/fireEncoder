{
 "cells": [
  {
   "cell_type": "code",
   "execution_count": 8,
   "id": "ac90b283-e00d-49ec-b983-da8f86772f9c",
   "metadata": {},
   "outputs": [],
   "source": [
    "import torch\n",
    "import torch.nn as nn\n",
    "import torchvision\n",
    "import torchvision.transforms as T\n",
    "import torchvision.datasets as D\n",
    "import torch.nn.functional as F\n",
    "import numpy as np\n",
    "import pickle\n",
    "from matplotlib import pyplot as plt\n",
    "from utils.utils import MyDataset, show_image, visualise_output\n",
    "import sys\n",
    "sys.path.append(\"..\")\n",
    "from networks.autoencoder import FireAutoencoder\n",
    "import matplotlib\n",
    "from sklearn.linear_model import LinearRegression\n",
    "from sklearn.metrics import mean_squared_error\n",
    "import scipy"
   ]
  },
  {
   "cell_type": "code",
   "execution_count": 9,
   "id": "f12fd07a-97f1-4ac7-b18e-63331acd9fa8",
   "metadata": {},
   "outputs": [],
   "source": [
    "train_dataset = MyDataset(root='../data/complete_random/homo_2/Sub20x20_full_grid_.pkl',\n",
    "                             tform=lambda x: torch.from_numpy(x, dtype=torch.float\n",
    "))"
   ]
  },
  {
   "cell_type": "code",
   "execution_count": 26,
   "id": "e7276ce5-32a8-4681-a7bf-184295d2b189",
   "metadata": {},
   "outputs": [
    {
     "data": {
      "text/plain": [
       "<All keys matched successfully>"
      ]
     },
     "execution_count": 26,
     "metadata": {},
     "output_type": "execute_result"
    }
   ],
   "source": [
    "latent_dims = 256\n",
    "capacity = latent_dims//2 \n",
    "input_size = 20\n",
    "epochs = 100\n",
    "sigmoid = True\n",
    "net = FireAutoencoder(capacity, input_size, latent_dims, sigmoid)\n",
    "net.load_state_dict(torch.load(f'weights/v1//homo_2_sub20x20_latent={latent_dims}_capacity={capacity}_{epochs}_sigmoid={sigmoid}.pth', map_location=torch.device('cpu')))"
   ]
  },
  {
   "cell_type": "code",
   "execution_count": 27,
   "id": "0ddc3ba1-6561-4275-9259-feebd164c5fd",
   "metadata": {},
   "outputs": [],
   "source": [
    "full_loader  = torch.utils.data.DataLoader(train_dataset, batch_size=len(train_dataset), shuffle=False)"
   ]
  },
  {
   "cell_type": "code",
   "execution_count": 28,
   "id": "c0986517-dd2e-4342-950b-f39dfacb53ee",
   "metadata": {},
   "outputs": [],
   "source": [
    "all_images, all_r = next(iter(full_loader))"
   ]
  },
  {
   "cell_type": "code",
   "execution_count": 29,
   "id": "99008d1a-8841-4c95-9c85-99bad8990577",
   "metadata": {},
   "outputs": [],
   "source": [
    "embeddings = net.encode(all_images)"
   ]
  },
  {
   "cell_type": "code",
   "execution_count": 30,
   "id": "3d5438bc-6c09-484d-83f6-d067fecaab3b",
   "metadata": {},
   "outputs": [],
   "source": [
    "with torch.no_grad():\n",
    "    X, y = embeddings.numpy(), all_r.numpy()"
   ]
  },
  {
   "cell_type": "code",
   "execution_count": 31,
   "id": "8d579f7d-f6d2-450f-86ce-011f219e50ef",
   "metadata": {},
   "outputs": [],
   "source": [
    "reg = LinearRegression().fit(X, y)"
   ]
  },
  {
   "cell_type": "code",
   "execution_count": 32,
   "id": "3102aa46-c762-45ab-9726-9a84980aaeae",
   "metadata": {},
   "outputs": [
    {
     "data": {
      "text/plain": [
       "0.20463256969597776"
      ]
     },
     "execution_count": 32,
     "metadata": {},
     "output_type": "execute_result"
    }
   ],
   "source": [
    "reg.score(X, y)"
   ]
  },
  {
   "cell_type": "code",
   "execution_count": 33,
   "id": "ac40c980-d450-4a62-95c1-30daf75601c1",
   "metadata": {},
   "outputs": [
    {
     "data": {
      "text/plain": [
       "array([-812.81805, -751.52155, -779.3197 , ..., -780.0683 , -773.6772 ,\n",
       "       -756.6516 ], dtype=float32)"
      ]
     },
     "execution_count": 33,
     "metadata": {},
     "output_type": "execute_result"
    }
   ],
   "source": [
    "reg.predict(X)"
   ]
  },
  {
   "cell_type": "code",
   "execution_count": 34,
   "id": "824d2618-c324-4cbf-8a1d-617430cbeb05",
   "metadata": {},
   "outputs": [
    {
     "data": {
      "image/png": "[encoded data removed]",
      "text/plain": [
       "<Figure size 640x480 with 1 Axes>"
      ]
     },
     "metadata": {},
     "output_type": "display_data"
    }
   ],
   "source": [
    "bins = np.arange(-1020, -500, 10)\n",
    "plt.hist(reg.predict(X), bins=bins, align='left')\n",
    "plt.title('Distribución de las recompensas predecidas')\n",
    "plt.xlabel('Recompensa')\n",
    "plt.ylabel('Frecuencia')\n",
    "plt.savefig(f\"linear_regresion/reward_classes_distr_{latent_dims}_{epochs}_sigmoid={sigmoid}.png.png\")\n",
    "plt.show()"
   ]
  },
  {
   "cell_type": "code",
   "execution_count": 35,
   "id": "ee7fbb08-7a58-4af3-9a48-feccb5386306",
   "metadata": {},
   "outputs": [],
   "source": [
    "def linear_func(x):\n",
    "    return -(np.dot(x,reg.coef_) + reg.intercept_)"
   ]
  },
  {
   "cell_type": "code",
   "execution_count": 36,
   "id": "307d0983-0c6a-4f2b-84ea-1a954b045768",
   "metadata": {},
   "outputs": [],
   "source": [
    "res = scipy.optimize.minimize(linear_func, x0=np.zeros(latent_dims))"
   ]
  },
  {
   "cell_type": "code",
   "execution_count": 37,
   "id": "1c16fa29-c4eb-494c-8699-f5df6d560096",
   "metadata": {},
   "outputs": [
    {
     "data": {
      "text/plain": [
       "  message: Optimization terminated successfully.\n",
       "  success: True\n",
       "   status: 0\n",
       "      fun: -4316340769.607968\n",
       "        x: [ 2.526e+07  3.186e+07 ...  1.925e+06 -9.891e+07]\n",
       "      nit: 4\n",
       "      jac: [ 0.000e+00  0.000e+00 ...  0.000e+00  0.000e+00]\n",
       " hess_inv: [[ 1.766e+05  2.227e+05 ...  1.346e+04 -6.915e+05]\n",
       "            [ 2.227e+05  2.810e+05 ...  1.698e+04 -8.723e+05]\n",
       "            ...\n",
       "            [ 1.346e+04  1.698e+04 ...  1.027e+03 -5.271e+04]\n",
       "            [-6.915e+05 -8.723e+05 ... -5.271e+04  2.708e+06]]\n",
       "     nfev: 30326\n",
       "     njev: 118"
      ]
     },
     "execution_count": 37,
     "metadata": {},
     "output_type": "execute_result"
    }
   ],
   "source": [
    "res"
   ]
  },
  {
   "cell_type": "code",
   "execution_count": 38,
   "id": "8598c197-ff10-4296-bffc-e4b6884cbb97",
   "metadata": {},
   "outputs": [],
   "source": [
    "minimum = torch.from_numpy(res.x)"
   ]
  },
  {
   "cell_type": "code",
   "execution_count": 39,
   "id": "8a969de4-660d-410a-8846-b4332f88ed2d",
   "metadata": {},
   "outputs": [
    {
     "data": {
      "text/plain": [
       "FireAutoencoder(\n",
       "  (conv1): Conv2d(1, 128, kernel_size=(4, 4), stride=(2, 2), padding=(1, 1))\n",
       "  (conv2): Conv2d(128, 256, kernel_size=(4, 4), stride=(2, 2), padding=(1, 1))\n",
       "  (fc): Linear(in_features=6400, out_features=256, bias=True)\n",
       "  (fc_2): Linear(in_features=256, out_features=6400, bias=True)\n",
       "  (conv1_2): ConvTranspose2d(256, 128, kernel_size=(4, 4), stride=(2, 2), padding=(1, 1))\n",
       "  (conv2_2): ConvTranspose2d(128, 1, kernel_size=(4, 4), stride=(2, 2), padding=(1, 1))\n",
       "  (sigmoid): Sigmoid()\n",
       ")"
      ]
     },
     "execution_count": 39,
     "metadata": {},
     "output_type": "execute_result"
    }
   ],
   "source": [
    "net.float()"
   ]
  },
  {
   "cell_type": "code",
   "execution_count": 40,
   "id": "e66c02ad-93cd-47a3-8db5-e802aaad23fa",
   "metadata": {},
   "outputs": [],
   "source": [
    "solution = net.decode(minimum.float().unsqueeze(0))"
   ]
  },
  {
   "cell_type": "code",
   "execution_count": 41,
   "id": "12848f4c-25be-414b-ba7b-98aeedfedb54",
   "metadata": {},
   "outputs": [],
   "source": [
    "if sigmoid:\n",
    "    solution[solution>=0.5] = 1\n",
    "    solution[solution<=0.5] = 0\n",
    "else:\n",
    "    solution[solution>0] = 1"
   ]
  },
  {
   "cell_type": "code",
   "execution_count": 42,
   "id": "05890e8c-4b29-4df9-88ab-cfad05abacb5",
   "metadata": {},
   "outputs": [
    {
     "data": {
      "image/png": "[encoded data removed]",
      "text/plain": [
       "<Figure size 640x480 with 2 Axes>"
      ]
     },
     "metadata": {},
     "output_type": "display_data"
    }
   ],
   "source": [
    "with torch.no_grad():\n",
    "        plt.title('Reconstrucción del mínimo')\n",
    "        plt.imshow(solution[0][0].numpy())\n",
    "        plt.savefig(f\"linear_regresion/v1/minimum_decoding_{latent_dims}_{epochs}_sigmoid={sigmoid}.png\")\n",
    "        plt.colorbar()\n",
    "        plt.show()"
   ]
  },
  {
   "cell_type": "code",
   "execution_count": 43,
   "id": "5a0255b4-0c95-46b5-b5ce-e73c3670b480",
   "metadata": {},
   "outputs": [
    {
     "name": "stdout",
     "output_type": "stream",
     "text": [
      "[[0. 1. 0. 0. 0. 0. 0. 0. 0. 0. 0. 0. 0. 0. 0. 0. 0. 0. 0. 0.]\n",
      " [0. 0. 0. 0. 0. 0. 0. 0. 0. 0. 0. 0. 0. 0. 0. 0. 0. 0. 0. 0.]\n",
      " [0. 0. 0. 0. 0. 0. 0. 0. 0. 0. 0. 0. 0. 0. 0. 0. 0. 0. 0. 0.]\n",
      " [0. 0. 0. 0. 0. 0. 0. 0. 0. 0. 0. 0. 0. 0. 0. 0. 0. 0. 0. 0.]\n",
      " [0. 0. 0. 0. 0. 0. 0. 0. 0. 0. 0. 0. 0. 0. 0. 0. 0. 0. 0. 0.]\n",
      " [0. 0. 0. 0. 0. 0. 0. 0. 0. 0. 0. 0. 0. 0. 0. 0. 0. 0. 0. 0.]\n",
      " [0. 0. 0. 0. 0. 0. 0. 0. 0. 0. 1. 1. 1. 0. 0. 0. 0. 0. 0. 0.]\n",
      " [0. 0. 0. 0. 0. 0. 0. 0. 0. 0. 0. 0. 1. 0. 1. 0. 0. 0. 0. 0.]\n",
      " [0. 0. 0. 0. 0. 0. 0. 0. 0. 0. 0. 1. 0. 1. 1. 0. 0. 0. 0. 0.]\n",
      " [0. 0. 0. 0. 0. 0. 0. 0. 0. 0. 1. 0. 1. 1. 0. 0. 0. 0. 0. 0.]\n",
      " [0. 0. 0. 0. 0. 0. 0. 1. 1. 0. 1. 1. 0. 1. 1. 0. 0. 0. 0. 0.]\n",
      " [0. 0. 0. 0. 0. 0. 0. 1. 1. 0. 0. 1. 1. 0. 0. 0. 0. 0. 0. 0.]\n",
      " [0. 0. 0. 0. 0. 0. 0. 1. 1. 0. 0. 1. 1. 1. 1. 0. 0. 0. 0. 0.]\n",
      " [0. 0. 0. 0. 0. 0. 0. 0. 1. 1. 0. 0. 1. 0. 0. 0. 0. 0. 0. 0.]\n",
      " [0. 0. 0. 0. 0. 0. 0. 0. 0. 1. 0. 0. 1. 1. 1. 0. 0. 0. 0. 0.]\n",
      " [0. 0. 0. 0. 0. 0. 0. 0. 0. 0. 0. 0. 0. 0. 0. 0. 0. 0. 0. 0.]\n",
      " [0. 0. 0. 0. 0. 0. 0. 0. 0. 0. 0. 0. 0. 0. 0. 0. 0. 0. 0. 0.]\n",
      " [0. 0. 0. 0. 0. 0. 0. 0. 0. 0. 0. 0. 0. 0. 0. 0. 0. 0. 0. 0.]\n",
      " [0. 0. 0. 0. 0. 0. 0. 0. 0. 0. 0. 0. 0. 0. 0. 0. 0. 0. 0. 0.]\n",
      " [0. 0. 0. 0. 0. 0. 0. 0. 0. 0. 0. 0. 0. 0. 0. 0. 0. 0. 0. 0.]]\n"
     ]
    }
   ],
   "source": [
    "with torch.no_grad():\n",
    "    print(solution[0][0].numpy())"
   ]
  },
  {
   "cell_type": "code",
   "execution_count": null,
   "id": "be2cf92f-1c0b-4be2-940b-3e25cd2fab23",
   "metadata": {},
   "outputs": [],
   "source": []
  },
  {
   "cell_type": "code",
   "execution_count": null,
   "id": "267ab251-cd2d-475e-97f6-84a4cf676801",
   "metadata": {},
   "outputs": [],
   "source": []
  },
  {
   "cell_type": "code",
   "execution_count": null,
   "id": "01c3480c-a734-466d-a5df-1a9be6e4d404",
   "metadata": {},
   "outputs": [],
   "source": []
  }
 ],
 "metadata": {
  "kernelspec": {
   "display_name": "Python 3 (ipykernel)",
   "language": "python",
   "name": "python3"
  },
  "language_info": {
   "codemirror_mode": {
    "name": "ipython",
    "version": 3
   },
   "file_extension": ".py",
   "mimetype": "text/x-python",
   "name": "python",
   "nbconvert_exporter": "python",
   "pygments_lexer": "ipython3",
   "version": "3.11.6"
  }
 },
 "nbformat": 4,
 "nbformat_minor": 5
}
