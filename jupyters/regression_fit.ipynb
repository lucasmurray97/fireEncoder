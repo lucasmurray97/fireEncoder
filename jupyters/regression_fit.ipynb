{
 "cells": [
  {
   "cell_type": "code",
   "execution_count": 1,
   "id": "ac90b283-e00d-49ec-b983-da8f86772f9c",
   "metadata": {},
   "outputs": [],
   "source": [
    "import torch\n",
    "import torch.nn as nn\n",
    "import torchvision\n",
    "import torchvision.transforms as T\n",
    "import torchvision.datasets as D\n",
    "import torch.nn.functional as F\n",
    "import numpy as np\n",
    "import pickle\n",
    "from matplotlib import pyplot as plt\n",
    "from utils.utils import MyDataset, show_image, visualise_output\n",
    "import sys\n",
    "sys.path.append(\"..\")\n",
    "from networks.autoencoder import FireAutoencoder\n",
    "import matplotlib\n",
    "from sklearn.linear_model import LinearRegression\n",
    "from sklearn.metrics import mean_squared_error\n",
    "import scipy"
   ]
  },
  {
   "cell_type": "code",
   "execution_count": 2,
   "id": "f12fd07a-97f1-4ac7-b18e-63331acd9fa8",
   "metadata": {},
   "outputs": [],
   "source": [
    "train_dataset = MyDataset(root='../data/complete_random/homo_2/Sub20x20_full_grid_.pkl',\n",
    "                             tform=lambda x: torch.from_numpy(x, dtype=torch.float\n",
    "))"
   ]
  },
  {
   "cell_type": "code",
   "execution_count": 3,
   "id": "e7276ce5-32a8-4681-a7bf-184295d2b189",
   "metadata": {},
   "outputs": [
    {
     "data": {
      "text/plain": [
       "<All keys matched successfully>"
      ]
     },
     "execution_count": 3,
     "metadata": {},
     "output_type": "execute_result"
    }
   ],
   "source": [
    "latent_dims = 256\n",
    "capacity = latent_dims//2\n",
    "input_size = 20\n",
    "epochs = 100\n",
    "net = FireAutoencoder(capacity, input_size, latent_dims)\n",
    "net.load_state_dict(torch.load(f'weights/homo_2_sub20x20_latent={latent_dims}_capacity={capacity}_{epochs}.pth'))"
   ]
  },
  {
   "cell_type": "code",
   "execution_count": 4,
   "id": "0ddc3ba1-6561-4275-9259-feebd164c5fd",
   "metadata": {},
   "outputs": [],
   "source": [
    "full_loader  = torch.utils.data.DataLoader(train_dataset, batch_size=len(train_dataset), shuffle=False)"
   ]
  },
  {
   "cell_type": "code",
   "execution_count": 5,
   "id": "c0986517-dd2e-4342-950b-f39dfacb53ee",
   "metadata": {},
   "outputs": [],
   "source": [
    "all_images, all_r = next(iter(full_loader))"
   ]
  },
  {
   "cell_type": "code",
   "execution_count": 6,
   "id": "99008d1a-8841-4c95-9c85-99bad8990577",
   "metadata": {},
   "outputs": [],
   "source": [
    "embeddings = net.encode(all_images)"
   ]
  },
  {
   "cell_type": "code",
   "execution_count": 7,
   "id": "3d5438bc-6c09-484d-83f6-d067fecaab3b",
   "metadata": {},
   "outputs": [],
   "source": [
    "with torch.no_grad():\n",
    "    X, y = embeddings.numpy(), all_r.numpy()"
   ]
  },
  {
   "cell_type": "code",
   "execution_count": 8,
   "id": "8d579f7d-f6d2-450f-86ce-011f219e50ef",
   "metadata": {},
   "outputs": [],
   "source": [
    "reg = LinearRegression().fit(X, y)"
   ]
  },
  {
   "cell_type": "code",
   "execution_count": 9,
   "id": "3102aa46-c762-45ab-9726-9a84980aaeae",
   "metadata": {},
   "outputs": [
    {
     "data": {
      "text/plain": [
       "0.2039788649137032"
      ]
     },
     "execution_count": 9,
     "metadata": {},
     "output_type": "execute_result"
    }
   ],
   "source": [
    "reg.score(X, y)"
   ]
  },
  {
   "cell_type": "code",
   "execution_count": 10,
   "id": "ac40c980-d450-4a62-95c1-30daf75601c1",
   "metadata": {},
   "outputs": [
    {
     "data": {
      "text/plain": [
       "array([-798.9492 , -743.04926, -777.2674 , ..., -779.8736 , -760.2816 ,\n",
       "       -763.25116], dtype=float32)"
      ]
     },
     "execution_count": 10,
     "metadata": {},
     "output_type": "execute_result"
    }
   ],
   "source": [
    "reg.predict(X)"
   ]
  },
  {
   "cell_type": "code",
   "execution_count": 11,
   "id": "3157c6ea-913d-4226-abae-79a2318f3d40",
   "metadata": {},
   "outputs": [
    {
     "data": {
      "text/plain": [
       "3277.152639062545"
      ]
     },
     "execution_count": 11,
     "metadata": {},
     "output_type": "execute_result"
    }
   ],
   "source": [
    "mean_squared_error(reg.predict(X), y)"
   ]
  },
  {
   "cell_type": "code",
   "execution_count": 12,
   "id": "824d2618-c324-4cbf-8a1d-617430cbeb05",
   "metadata": {},
   "outputs": [
    {
     "data": {
      "image/png": "[encoded data removed]",
      "text/plain": [
       "<Figure size 640x480 with 1 Axes>"
      ]
     },
     "metadata": {},
     "output_type": "display_data"
    }
   ],
   "source": [
    "bins = np.arange(-1020, -500, 10)\n",
    "plt.hist(reg.predict(X), bins=bins, align='left')\n",
    "plt.title('Distribución de las recompensas predecidas')\n",
    "plt.xlabel('Recompensa')\n",
    "plt.ylabel('Frecuencia')\n",
    "plt.savefig(f\"linear_regresion/reward_classes_distr.png\")\n",
    "plt.show()"
   ]
  },
  {
   "cell_type": "code",
   "execution_count": 13,
   "id": "ee7fbb08-7a58-4af3-9a48-feccb5386306",
   "metadata": {},
   "outputs": [],
   "source": [
    "def linear_func(x):\n",
    "    return -(np.dot(x,reg.coef_) + reg.intercept_)"
   ]
  },
  {
   "cell_type": "code",
   "execution_count": 19,
   "id": "59c4e837-8baa-4cdd-95e6-a827d0f760d6",
   "metadata": {},
   "outputs": [],
   "source": [
    "bnds_ = list(zip([0 for i in range(256)], [1 for i in range(256)]))"
   ]
  },
  {
   "cell_type": "code",
   "execution_count": 22,
   "id": "88e51efb-f084-4870-9e6a-e1c4664b87cd",
   "metadata": {},
   "outputs": [],
   "source": [
    "bnds = tuple(i for i in bnds_)"
   ]
  },
  {
   "cell_type": "code",
   "execution_count": 43,
   "id": "307d0983-0c6a-4f2b-84ea-1a954b045768",
   "metadata": {},
   "outputs": [],
   "source": [
    "res = scipy.optimize.minimize(linear_func, x0=np.zeros(256))"
   ]
  },
  {
   "cell_type": "code",
   "execution_count": 44,
   "id": "1c16fa29-c4eb-494c-8699-f5df6d560096",
   "metadata": {},
   "outputs": [
    {
     "data": {
      "text/plain": [
       "  message: Optimization terminated successfully.\n",
       "  success: True\n",
       "   status: 0\n",
       "      fun: -15666125387.185125\n",
       "        x: [-5.389e+06  1.313e+06 ...  4.184e+06  1.624e+06]\n",
       "      nit: 1\n",
       "      jac: [ 0.000e+00  0.000e+00 ...  0.000e+00  0.000e+00]\n",
       " hess_inv: [[1 0 ... 0 0]\n",
       "            [0 1 ... 0 0]\n",
       "            ...\n",
       "            [0 0 ... 1 0]\n",
       "            [0 0 ... 0 1]]\n",
       "     nfev: 3855\n",
       "     njev: 15"
      ]
     },
     "execution_count": 44,
     "metadata": {},
     "output_type": "execute_result"
    }
   ],
   "source": [
    "res"
   ]
  },
  {
   "cell_type": "code",
   "execution_count": 45,
   "id": "8598c197-ff10-4296-bffc-e4b6884cbb97",
   "metadata": {},
   "outputs": [],
   "source": [
    "minimum = torch.from_numpy(res.x)"
   ]
  },
  {
   "cell_type": "code",
   "execution_count": 46,
   "id": "8a969de4-660d-410a-8846-b4332f88ed2d",
   "metadata": {},
   "outputs": [
    {
     "data": {
      "text/plain": [
       "FireAutoencoder(\n",
       "  (conv1): Conv2d(1, 128, kernel_size=(4, 4), stride=(2, 2), padding=(1, 1))\n",
       "  (conv2): Conv2d(128, 256, kernel_size=(4, 4), stride=(2, 2), padding=(1, 1))\n",
       "  (fc): Linear(in_features=6400, out_features=256, bias=True)\n",
       "  (fc_2): Linear(in_features=256, out_features=6400, bias=True)\n",
       "  (conv1_2): ConvTranspose2d(256, 128, kernel_size=(4, 4), stride=(2, 2), padding=(1, 1))\n",
       "  (conv2_2): ConvTranspose2d(128, 1, kernel_size=(4, 4), stride=(2, 2), padding=(1, 1))\n",
       ")"
      ]
     },
     "execution_count": 46,
     "metadata": {},
     "output_type": "execute_result"
    }
   ],
   "source": [
    "net.float()"
   ]
  },
  {
   "cell_type": "code",
   "execution_count": 60,
   "id": "e66c02ad-93cd-47a3-8db5-e802aaad23fa",
   "metadata": {},
   "outputs": [],
   "source": [
    "solution = net.decode(minimum.float().unsqueeze(0))"
   ]
  },
  {
   "cell_type": "code",
   "execution_count": 63,
   "id": "12848f4c-25be-414b-ba7b-98aeedfedb54",
   "metadata": {},
   "outputs": [],
   "source": [
    "solution[solution>0] = 1"
   ]
  },
  {
   "cell_type": "code",
   "execution_count": 64,
   "id": "05890e8c-4b29-4df9-88ab-cfad05abacb5",
   "metadata": {},
   "outputs": [
    {
     "data": {
      "image/png": "[encoded data removed]",
      "text/plain": [
       "<Figure size 640x480 with 1 Axes>"
      ]
     },
     "metadata": {},
     "output_type": "display_data"
    }
   ],
   "source": [
    "with torch.no_grad():\n",
    "        plt.title('Reconstrucción del mínimo')\n",
    "        plt.imshow(solution[0][0].numpy())\n",
    "        plt.savefig(f\"linear_regresion/minimum_decoding.png\")\n",
    "        plt.show()"
   ]
  },
  {
   "cell_type": "code",
   "execution_count": 50,
   "id": "5a0255b4-0c95-46b5-b5ce-e73c3670b480",
   "metadata": {},
   "outputs": [
    {
     "name": "stdout",
     "output_type": "stream",
     "text": [
      "[[0. 0. 0. 0. 0. 0. 0. 0. 0. 0. 0. 0. 0. 0. 0. 0. 0. 0. 0. 0.]\n",
      " [0. 0. 0. 0. 0. 0. 0. 0. 0. 0. 0. 0. 0. 0. 0. 0. 0. 0. 0. 0.]\n",
      " [0. 0. 0. 0. 0. 0. 0. 0. 0. 0. 0. 0. 0. 0. 0. 0. 0. 0. 0. 0.]\n",
      " [0. 0. 0. 0. 0. 0. 0. 0. 0. 0. 0. 0. 0. 0. 0. 0. 0. 0. 0. 0.]\n",
      " [0. 0. 0. 0. 0. 0. 0. 0. 0. 0. 1. 0. 0. 0. 0. 0. 0. 0. 0. 0.]\n",
      " [0. 0. 0. 0. 0. 0. 0. 0. 0. 0. 0. 0. 0. 0. 0. 0. 0. 0. 0. 0.]\n",
      " [0. 0. 0. 0. 0. 0. 0. 0. 0. 0. 1. 1. 0. 0. 0. 0. 0. 0. 0. 0.]\n",
      " [0. 0. 0. 0. 0. 0. 0. 0. 0. 1. 1. 1. 1. 1. 0. 0. 0. 0. 0. 0.]\n",
      " [0. 0. 0. 0. 0. 0. 0. 0. 0. 0. 1. 1. 1. 1. 1. 0. 0. 0. 0. 0.]\n",
      " [0. 0. 0. 0. 0. 0. 0. 0. 0. 0. 1. 1. 1. 1. 1. 0. 0. 0. 0. 0.]\n",
      " [1. 0. 0. 0. 0. 0. 0. 1. 1. 1. 1. 1. 1. 1. 1. 0. 0. 0. 0. 0.]\n",
      " [0. 0. 0. 0. 0. 0. 0. 1. 1. 1. 1. 1. 1. 0. 1. 0. 0. 0. 0. 0.]\n",
      " [0. 0. 0. 0. 0. 0. 0. 1. 1. 1. 1. 1. 1. 1. 1. 0. 0. 0. 0. 0.]\n",
      " [0. 0. 0. 0. 0. 0. 0. 0. 1. 1. 1. 1. 1. 0. 1. 0. 0. 0. 0. 0.]\n",
      " [0. 0. 0. 0. 0. 0. 0. 0. 0. 1. 0. 1. 1. 1. 1. 0. 0. 0. 0. 0.]\n",
      " [0. 0. 0. 0. 0. 0. 0. 0. 0. 0. 0. 0. 0. 0. 0. 0. 0. 0. 0. 0.]\n",
      " [0. 0. 0. 0. 0. 0. 0. 0. 0. 0. 0. 0. 0. 0. 0. 0. 0. 0. 0. 0.]\n",
      " [0. 0. 0. 0. 0. 0. 0. 0. 0. 0. 0. 0. 0. 0. 0. 0. 0. 0. 0. 0.]\n",
      " [0. 0. 0. 0. 0. 0. 0. 0. 0. 0. 0. 0. 0. 0. 0. 0. 0. 0. 0. 0.]\n",
      " [0. 0. 0. 0. 0. 0. 0. 0. 0. 0. 0. 0. 0. 0. 0. 0. 0. 0. 0. 0.]]\n"
     ]
    }
   ],
   "source": [
    "with torch.no_grad():\n",
    "    print(solution[0][0].numpy())"
   ]
  },
  {
   "cell_type": "code",
   "execution_count": null,
   "id": "be2cf92f-1c0b-4be2-940b-3e25cd2fab23",
   "metadata": {},
   "outputs": [],
   "source": []
  }
 ],
 "metadata": {
  "kernelspec": {
   "display_name": "Python 3 (ipykernel)",
   "language": "python",
   "name": "python3"
  },
  "language_info": {
   "codemirror_mode": {
    "name": "ipython",
    "version": 3
   },
   "file_extension": ".py",
   "mimetype": "text/x-python",
   "name": "python",
   "nbconvert_exporter": "python",
   "pygments_lexer": "ipython3",
   "version": "3.11.6"
  }
 },
 "nbformat": 4,
 "nbformat_minor": 5
}
