{
 "cells": [
  {
   "cell_type": "code",
   "execution_count": 1,
   "id": "1c33b1b5-39f8-4ce0-ab88-b89f3ee4db6d",
   "metadata": {},
   "outputs": [],
   "source": [
    "import torch\n",
    "import torch.nn as nn\n",
    "import torchvision\n",
    "import torchvision.transforms as T\n",
    "import torchvision.datasets as D\n",
    "import torch.nn.functional as F\n",
    "import numpy as np\n",
    "import pickle\n",
    "from matplotlib import pyplot as plt\n",
    "import sys\n",
    "sys.path.append(\"..\")\n",
    "from utils.utils import MyDataset, show_image, visualise_output, visualise_output_reward\n",
    "from networks.autoencoder import FireAutoencoder\n",
    "from networks.autoencoder_reward import FireAutoencoder_reward\n",
    "from sklearn.decomposition import PCA\n",
    "import matplotlib\n",
    "from sklearn.manifold import TSNE\n",
    "from mpl_toolkits.mplot3d import Axes3D  # Import the 3D plotting toolkit"
   ]
  },
  {
   "cell_type": "code",
   "execution_count": 2,
   "id": "87e0955f-d752-42ec-8884-76f256ab9fa2",
   "metadata": {},
   "outputs": [],
   "source": [
    "latent_dims = 64\n",
    "capacity = latent_dims//2\n",
    "use_gpu =  True\n",
    "input_size = 20\n",
    "sigmoid = False\n",
    "variational_beta = 1"
   ]
  },
  {
   "cell_type": "code",
   "execution_count": 3,
   "id": "551bfcf9-e479-4d42-a093-23f10818e15d",
   "metadata": {},
   "outputs": [],
   "source": [
    "file = open(f\"../../data/complete_random/homo_2/Sub20x20_full_grid.pkl\", 'rb')\n",
    "data = pickle.load(file)"
   ]
  },
  {
   "cell_type": "code",
   "execution_count": 4,
   "id": "d621711e-ccf4-45d3-a3ac-76667bcd846c",
   "metadata": {},
   "outputs": [],
   "source": [
    "dataset = MyDataset(root='../../data/complete_random/hetero_1/Sub20x20_full_grid.pkl',\n",
    "                             tform=lambda x: torch.from_numpy(x, dtype=torch.float))"
   ]
  },
  {
   "cell_type": "code",
   "execution_count": 139,
   "id": "c9fd4dc5-dce9-445c-a512-06006801831f",
   "metadata": {},
   "outputs": [],
   "source": [
    "class VAE(nn.Module):\n",
    "    def __init__(self, capacity, input_size, latent_dims):\n",
    "        super(VAE, self).__init__()\n",
    "        self.latent_dims = latent_dims\n",
    "        self.c = capacity\n",
    "        kernel_size = 4\n",
    "        stride = 2\n",
    "        padding = 1\n",
    "        self.dim_1 = int((input_size - kernel_size + 2*padding)/2 + 1)\n",
    "        self.dim_2 = int((self.dim_1 - kernel_size + 2*padding)/2 + 1)\n",
    "        \n",
    "        # Encoder layers:\n",
    "        self.conv1 = nn.Conv2d(in_channels=1, out_channels=self.c, kernel_size=kernel_size, stride=stride, padding=padding) # (64, 10, 10)\n",
    "        self.conv2 = nn.Conv2d(in_channels=self.c, out_channels=self.c*2, kernel_size=kernel_size, stride=stride, padding=padding) # (128, 5, 5)\n",
    "        self.fc_mu = nn.Linear(in_features=latent_dims*(self.dim_2**2), out_features = latent_dims)\n",
    "        self.fc_logvar = nn.Linear(in_features=latent_dims*(self.dim_2**2), out_features = latent_dims)\n",
    "        \n",
    "        # Decoder layers:\n",
    "        self.fc = nn.Linear(in_features=latent_dims, out_features=latent_dims*(self.dim_2**2))\n",
    "        self.conv1_ = nn.ConvTranspose2d(in_channels=self.c*2, out_channels=self.c, kernel_size=kernel_size, stride=stride, padding=padding)\n",
    "        self.conv2_ = nn.ConvTranspose2d(in_channels=self.c, out_channels=1, kernel_size=kernel_size, stride=stride, padding=padding)\n",
    "\n",
    "        # Inicialización de parámetros:\n",
    "        nn.init.kaiming_uniform_(self.conv1.weight, mode='fan_in', nonlinearity='relu')\n",
    "        nn.init.kaiming_uniform_(self.conv2.weight, mode='fan_in', nonlinearity='relu')\n",
    "        nn.init.kaiming_uniform_(self.conv1_.weight, mode='fan_in', nonlinearity='relu')\n",
    "        nn.init.kaiming_uniform_(self.conv2_.weight, mode='fan_in', nonlinearity='relu')\n",
    "\n",
    "        # Losses holders:\n",
    "        self.training_loss = []\n",
    "        self.validation_loss = []\n",
    "        self.reconstruction_training_loss = []\n",
    "        self.reconstruction_validation_loss = []\n",
    "        self.divergence_training_loss = []\n",
    "        self.divergence_validation_loss = []\n",
    "        self.m = 0\n",
    "        self.n = 0\n",
    "        self.epoch_loss = 0\n",
    "        self.val_epoch_loss = 0\n",
    "        self.reconstruction_epoch_loss = 0\n",
    "        self.val_reconstruction_epoch_loss = 0\n",
    "        self.divergence_epoch_loss = 0\n",
    "        self.val_divergence_epoch_loss = 0\n",
    "\n",
    "        self.last_mu = None\n",
    "        self.last_logvar = None\n",
    "        \n",
    "    def encode(self, x):\n",
    "        x = F.relu(self.conv1(x))\n",
    "        x = F.relu(self.conv2(x))\n",
    "        x = x.view(x.size(0), -1) # flatten batch of multi-channel feature maps to a batch of feature vectors\n",
    "        x_mu = self.fc_mu(x)\n",
    "        x_logvar = self.fc_logvar(x)\n",
    "        return x_mu, x_logvar\n",
    "\n",
    "    def decode(self, x):\n",
    "        x = self.fc(x)\n",
    "        x = x.view(x.size(0), self.c*2, self.dim_2, self.dim_2) # unflatten batch of feature vectors to a batch of multi-channel feature maps\n",
    "        x = F.relu(self.conv1_(x))\n",
    "        x = torch.sigmoid(self.conv2_(x)) # last layer before output is sigmoid, since we are using BCE as reconstruction loss\n",
    "        return x\n",
    "    \n",
    "    def forward(self, x):\n",
    "        latent_mu, latent_logvar = self.encode(x)\n",
    "        latent = self.latent_sample(latent_mu, latent_logvar)\n",
    "        x_recon = self.decode(latent)\n",
    "        self.last_mu = latent_mu\n",
    "        self.last_logvar = latent_logvar\n",
    "        return x_recon\n",
    "    \n",
    "    def latent_sample(self, mu, logvar):\n",
    "        if self.training:\n",
    "            # the reparameterization trick\n",
    "            std = logvar.mul(0.5).exp_()\n",
    "            eps = torch.empty_like(std).normal_()\n",
    "            return eps.mul(std).add_(mu)\n",
    "        else:\n",
    "            return mu\n",
    "    \n",
    "    def vae_loss(self, recon_x, x, mu, logvar):\n",
    "        # recon_x is the probability of a multivariate Bernoulli distribution p.\n",
    "        # -log(p(x)) is then the pixel-wise binary cross-entropy.\n",
    "        # Averaging or not averaging the binary cross-entropy over all pixels here\n",
    "        # is a subtle detail with big effect on training, since it changes the weight\n",
    "        # we need to pick for the other loss term by several orders of magnitude.\n",
    "        # Not averaging is the direct implementation of the negative log likelihood,\n",
    "        # but averaging makes the weight of the other loss term independent of the image resolution.\n",
    "        recon_loss = F.binary_cross_entropy(recon_x.view(-1, 400), x.view(-1, 400), reduction='sum')\n",
    "        \n",
    "        # KL-divergence between the prior distribution over latent vectors\n",
    "        # (the one we are going to sample from when generating new images)\n",
    "        # and the distribution estimated by the generator for the given image.\n",
    "        kldivergence = -0.5 * torch.sum(1 + logvar - mu.pow(2) - logvar.exp())\n",
    "        return recon_loss, kldivergence, recon_loss + variational_beta * kldivergence\n",
    "\n",
    "    def loss(self, output, x, r):\n",
    "        mu, logvar = (self.last_mu, self.last_logvar)\n",
    "        loss_1, loss_2, loss = self.vae_loss(output, x, mu, logvar)\n",
    "        self.reconstruction_epoch_loss += loss_1.item()\n",
    "        self.divergence_epoch_loss += loss_2.item()\n",
    "        self.epoch_loss += loss.item()\n",
    "        return loss\n",
    "\n",
    "    \n",
    "    def val_loss(self, output, x, r):\n",
    "        mu, logvar = (self.last_mu, self.last_logvar)\n",
    "        loss_1, loss_2, loss = self.vae_loss(output, x, mu, logvar)\n",
    "        self.val_reconstruction_epoch_loss += loss_1.item()\n",
    "        self.val_divergence_epoch_loss += loss_2.item()\n",
    "        self.val_epoch_loss += loss.item()\n",
    "        return loss\n",
    "        \n",
    "    def reset_losses(self):\n",
    "        self.training_loss.append(self.epoch_loss/self.n)\n",
    "        self.validation_loss.append(self.val_epoch_loss/self.m)\n",
    "        self.reconstruction_training_loss.append(self.reconstruction_epoch_loss/self.n)\n",
    "        self.reconstruction_validation_loss.append(self.val_reconstruction_epoch_loss/self.m)\n",
    "        self.divergence_training_loss.append(self.divergence_epoch_loss/self.n)\n",
    "        self.divergence_validation_loss.append(self.val_divergence_epoch_loss/self.m)\n",
    "        self.epoch_loss = 0\n",
    "        self.val_epoch_loss = 0\n",
    "        self.reconstruction_epoch_loss = 0\n",
    "        self.val_reconstruction_epoch_loss = 0\n",
    "        self.divergence_epoch_loss = 0\n",
    "        self.val_divergence_epoch_loss = 0\n",
    "        self.m = 0\n",
    "        self.n = 0"
   ]
  },
  {
   "cell_type": "code",
   "execution_count": 140,
   "id": "35abc424-62b1-46e8-82f0-7d91165656de",
   "metadata": {},
   "outputs": [],
   "source": [
    "net = VAE(capacity, input_size, latent_dims)"
   ]
  },
  {
   "cell_type": "code",
   "execution_count": 141,
   "id": "e49387a5-a5d9-4be0-aacf-644b13b2d2a6",
   "metadata": {},
   "outputs": [
    {
     "name": "stdout",
     "output_type": "stream",
     "text": [
      "Number of parameters: 375617\n"
     ]
    }
   ],
   "source": [
    "total_params = sum(p.numel() for p in net.parameters())\n",
    "print(f\"Number of parameters: {total_params}\")"
   ]
  },
  {
   "cell_type": "code",
   "execution_count": 142,
   "id": "0caf4a5f-16af-41c0-89d9-f44b4504b281",
   "metadata": {},
   "outputs": [],
   "source": [
    "train_dataset, validation_dataset, test_dataset =torch.utils.data.random_split(dataset, [0.9, 0.05, 0.05])\n",
    "batch = 16\n",
    "train_loader = torch.utils.data.DataLoader(train_dataset, batch_size=batch, shuffle=False)\n",
    "validation_loader = torch.utils.data.DataLoader(validation_dataset, batch_size=batch, shuffle=False)\n",
    "test_loader = torch.utils.data.DataLoader(train_dataset, batch_size=batch, shuffle=False)"
   ]
  },
  {
   "cell_type": "code",
   "execution_count": 143,
   "id": "9106fabb-9bfd-4e4f-b3da-9cf85c241006",
   "metadata": {},
   "outputs": [],
   "source": [
    "optimizer = torch.optim.Adam(net.parameters(), lr = 0.0001)"
   ]
  },
  {
   "cell_type": "code",
   "execution_count": 144,
   "id": "b51389a8-3a69-4d57-b51b-232c7c555cbc",
   "metadata": {},
   "outputs": [
    {
     "name": "stdout",
     "output_type": "stream",
     "text": [
      "Epoch [1/10], Loss: 685.5781\n",
      "Epoch [1/10], Validation Loss: 1021.7814\n",
      "Epoch [2/10], Loss: 630.1451\n",
      "Epoch [2/10], Validation Loss: 953.3658\n",
      "Epoch [3/10], Loss: 630.1645\n",
      "Epoch [3/10], Validation Loss: 915.3002\n",
      "Epoch [4/10], Loss: 599.5290\n",
      "Epoch [4/10], Validation Loss: 908.4174\n",
      "Epoch [5/10], Loss: 593.3741\n",
      "Epoch [5/10], Validation Loss: 894.3952\n",
      "Epoch [6/10], Loss: 593.9331\n",
      "Epoch [6/10], Validation Loss: 899.7952\n",
      "Epoch [7/10], Loss: 595.4787\n",
      "Epoch [7/10], Validation Loss: 885.1600\n",
      "Epoch [8/10], Loss: 597.1581\n",
      "Epoch [8/10], Validation Loss: 881.4828\n",
      "Epoch [9/10], Loss: 594.9623\n",
      "Epoch [9/10], Validation Loss: 885.2036\n",
      "Epoch [10/10], Loss: 589.7548\n",
      "Epoch [10/10], Validation Loss: 880.2779\n"
     ]
    }
   ],
   "source": [
    "device = torch.device('cuda' if torch.cuda.is_available() else 'cpu')\n",
    "net.to(device)\n",
    "epochs = 10\n",
    "training_loss = []\n",
    "validation_loss = []\n",
    "for epoch in range(epochs):\n",
    "    n = 0\n",
    "    m = 0\n",
    "    epoch_loss = 0\n",
    "    val_epoch_loss = 0\n",
    "    for x, _ in train_loader:\n",
    "        x = x.to(device)\n",
    "        output = net(x)\n",
    "        loss = net.loss(output, x, _)\n",
    "        optimizer.zero_grad()\n",
    "        loss.backward()\n",
    "        optimizer.step()\n",
    "        epoch_loss += loss.item()\n",
    "        net.n += 1\n",
    "    \n",
    "    for y, _ in validation_loader:\n",
    "        y = y.to(device)\n",
    "        output = net(y)\n",
    "        val_loss = net.val_loss(output, y, _)\n",
    "        optimizer.zero_grad()\n",
    "        val_epoch_loss += val_loss.item()\n",
    "        net.m+=1\n",
    "    net.reset_losses()\n",
    "    print('Epoch [{}/{}], Loss: {:.4f}'.format(epoch+1, epochs, loss.item()))\n",
    "    print('Epoch [{}/{}], Validation Loss: {:.4f}'.format(epoch+1, epochs, val_loss.item()))"
   ]
  },
  {
   "cell_type": "code",
   "execution_count": 145,
   "id": "1f4838ac-0b70-41fc-a66e-5a7c8e6a92a3",
   "metadata": {},
   "outputs": [
    {
     "data": {
      "image/png": "[encoded data removed]",
      "text/plain": [
       "<Figure size 640x480 with 1 Axes>"
      ]
     },
     "metadata": {},
     "output_type": "display_data"
    }
   ],
   "source": [
    "plt.ion()\n",
    "fig = plt.figure()\n",
    "plt.plot(net.training_loss, label='training loss'\n",
    ")\n",
    "plt.plot(net.validation_loss, label='validation loss'\n",
    ")\n",
    "plt.xlabel('Epochs')\n",
    "plt.ylabel('Loss')\n",
    "plt.show()"
   ]
  },
  {
   "cell_type": "code",
   "execution_count": null,
   "id": "02f457b4-12a3-4977-9968-b9f49a1c3ee4",
   "metadata": {},
   "outputs": [],
   "source": []
  }
 ],
 "metadata": {
  "kernelspec": {
   "display_name": "Python 3 (ipykernel)",
   "language": "python",
   "name": "python3"
  },
  "language_info": {
   "codemirror_mode": {
    "name": "ipython",
    "version": 3
   },
   "file_extension": ".py",
   "mimetype": "text/x-python",
   "name": "python",
   "nbconvert_exporter": "python",
   "pygments_lexer": "ipython3",
   "version": "3.11.6"
  }
 },
 "nbformat": 4,
 "nbformat_minor": 5
}
