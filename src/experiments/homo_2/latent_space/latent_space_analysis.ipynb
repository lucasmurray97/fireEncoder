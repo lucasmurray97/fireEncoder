{
 "cells": [
  {
   "cell_type": "code",
   "execution_count": 1,
   "metadata": {},
   "outputs": [],
   "source": [
    "import torch\n",
    "import torch.nn as nn\n",
    "import torchvision\n",
    "import torchvision.transforms as T\n",
    "import torchvision.datasets as D\n",
    "import torch.nn.functional as F\n",
    "import numpy as np\n",
    "from numpy import genfromtxt\n",
    "import os\n",
    "import pickle\n",
    "from matplotlib import pyplot as plt\n",
    "import sys\n",
    "sys.path.append(\"../../../\")\n",
    "from utils.utils import MyDataset, MyDatasetV2, show_image, visualise_output\n",
    "from networks.autoencoder import FireAutoencoder\n",
    "from networks.autoencoder_reward import FireAutoencoder_reward\n",
    "from networks.vae import VAE\n",
    "from networks.vae_v2 import VAE_V2\n",
    "from networks.ccvae import CCVAE\n",
    "from networks.utils import EarlyStopper\n",
    "import argparse\n",
    "from algorithms.GA.utils import write_firewall_file, erase_firebreaks\n",
    "from tqdm import tqdm\n"
   ]
  },
  {
   "cell_type": "code",
   "execution_count": 2,
   "metadata": {},
   "outputs": [],
   "source": [
    "dataset = MyDatasetV2(\"../../../../data/complete_random/homo_2/\")\n",
    "train_dataset, validation_dataset, test_dataset = torch.utils.data.random_split(dataset, [0.9, 0.05, 0.05], generator=torch.Generator().manual_seed(42))\n"
   ]
  },
  {
   "cell_type": "code",
   "execution_count": null,
   "metadata": {},
   "outputs": [],
   "source": [
    "params = {}\n",
    "params[\"latent_dims\"] = 256\n",
    "params[\"capacity\"] = 128\n",
    "params[\"use_gpu\"] =  False\n",
    "params[\"input_size\"] = 20\n",
    "params[\"epochs\"] = 20\n",
    "params[\"sigmoid\"] = True\n",
    "params[\"lr1\"] = 1e-5\n",
    "params[\"lr2\"] = 1e-5\n",
    "params[\"instance\"] = \"homo_2\"\n",
    "params[\"not_reduced\"] = False\n",
    "params[\"variational_beta\"] = 0.1\n",
    "params[\"distribution_std\"] = 0.1\n",
    "params[\"latent_portion\"] = 0.5\n",
    "params[\"alpha\"] = 10000"
   ]
  },
  {
   "cell_type": "code",
   "execution_count": 4,
   "metadata": {},
   "outputs": [
    {
     "data": {
      "text/plain": [
       "CCVAE(\n",
       "  (conv1): Conv2d(4, 128, kernel_size=(4, 4), stride=(2, 2), padding=(1, 1))\n",
       "  (conv2): Conv2d(128, 256, kernel_size=(4, 4), stride=(2, 2), padding=(1, 1))\n",
       "  (fc_mu): Linear(in_features=6400, out_features=256, bias=True)\n",
       "  (fc_logvar): Linear(in_features=6400, out_features=256, bias=True)\n",
       "  (bn1): BatchNorm2d(128, eps=1e-05, momentum=0.1, affine=True, track_running_stats=True)\n",
       "  (drop1): Dropout(p=0.5, inplace=False)\n",
       "  (bn2): BatchNorm2d(256, eps=1e-05, momentum=0.1, affine=True, track_running_stats=True)\n",
       "  (drop2): Dropout(p=0.5, inplace=False)\n",
       "  (encoder): Sequential(\n",
       "    (0): Conv2d(4, 128, kernel_size=(4, 4), stride=(2, 2), padding=(1, 1))\n",
       "    (1): BatchNorm2d(128, eps=1e-05, momentum=0.1, affine=True, track_running_stats=True)\n",
       "    (2): Dropout(p=0.5, inplace=False)\n",
       "    (3): ReLU()\n",
       "    (4): Conv2d(128, 256, kernel_size=(4, 4), stride=(2, 2), padding=(1, 1))\n",
       "    (5): BatchNorm2d(256, eps=1e-05, momentum=0.1, affine=True, track_running_stats=True)\n",
       "    (6): Dropout(p=0.5, inplace=False)\n",
       "    (7): ReLU()\n",
       "    (8): Flatten(start_dim=1, end_dim=-1)\n",
       "  )\n",
       "  (fc): Linear(in_features=256, out_features=6400, bias=True)\n",
       "  (conv1_): ConvTranspose2d(256, 128, kernel_size=(4, 4), stride=(2, 2), padding=(1, 1))\n",
       "  (conv2_): ConvTranspose2d(128, 1, kernel_size=(4, 4), stride=(2, 2), padding=(1, 1))\n",
       "  (bn1_2): BatchNorm2d(128, eps=1e-05, momentum=0.1, affine=True, track_running_stats=True)\n",
       "  (drop1_2): Dropout(p=0.5, inplace=False)\n",
       "  (decoder): Sequential(\n",
       "    (0): Linear(in_features=256, out_features=6400, bias=True)\n",
       "    (1): ReLU()\n",
       "    (2): Unflatten(dim=1, unflattened_size=(256, 5, 5))\n",
       "    (3): ConvTranspose2d(256, 128, kernel_size=(4, 4), stride=(2, 2), padding=(1, 1))\n",
       "    (4): BatchNorm2d(128, eps=1e-05, momentum=0.1, affine=True, track_running_stats=True)\n",
       "    (5): Dropout(p=0.5, inplace=False)\n",
       "    (6): ReLU()\n",
       "    (7): ConvTranspose2d(128, 1, kernel_size=(4, 4), stride=(2, 2), padding=(1, 1))\n",
       "  )\n",
       "  (fc_r1): Linear(in_features=128, out_features=128, bias=True)\n",
       "  (bn_r1): BatchNorm1d(128, eps=1e-05, momentum=0.1, affine=True, track_running_stats=True)\n",
       "  (fc_r2): Linear(in_features=128, out_features=64, bias=True)\n",
       "  (bn_r2): BatchNorm1d(64, eps=1e-05, momentum=0.1, affine=True, track_running_stats=True)\n",
       "  (fc_r4): Linear(in_features=64, out_features=1, bias=True)\n",
       "  (burned_predictor): Sequential(\n",
       "    (0): Linear(in_features=128, out_features=128, bias=True)\n",
       "    (1): BatchNorm1d(128, eps=1e-05, momentum=0.1, affine=True, track_running_stats=True)\n",
       "    (2): ReLU()\n",
       "    (3): Linear(in_features=128, out_features=64, bias=True)\n",
       "    (4): BatchNorm1d(64, eps=1e-05, momentum=0.1, affine=True, track_running_stats=True)\n",
       "    (5): ReLU()\n",
       "    (6): Linear(in_features=64, out_features=1, bias=True)\n",
       "  )\n",
       "  (criterion_vae): BCELoss()\n",
       "  (criterion_r): MSELoss()\n",
       ")"
      ]
     },
     "execution_count": 4,
     "metadata": {},
     "output_type": "execute_result"
    }
   ],
   "source": [
    "model = CCVAE(params).to(\"cpu\")\n",
    "model.eval()"
   ]
  },
  {
   "cell_type": "code",
   "execution_count": 5,
   "metadata": {},
   "outputs": [
    {
     "data": {
      "text/plain": [
       "<All keys matched successfully>"
      ]
     },
     "execution_count": 5,
     "metadata": {},
     "output_type": "execute_result"
    }
   ],
   "source": [
    "# Load weights\n",
    "model.load_state_dict(torch.load(f'../../../weights/homo_2/CCVAE/sub20x20_latent=256_capacity=128_100_sigmoid=True_T1=100_T2=100_lr1=1e-05_lr2=1e-05_lr3=0.0001_normalize=False_weight_decay=0_not_reduced=False_variational_beta=0.1_distribution_std=0.1_alpha=100000.0.pth', map_location=torch.device('cpu') ))"
   ]
  },
  {
   "cell_type": "code",
   "execution_count": 6,
   "metadata": {},
   "outputs": [],
   "source": [
    "x, r = dataset[1]\n",
    "recon, r_ = model(x.unsqueeze(0), r.unsqueeze(0))"
   ]
  },
  {
   "cell_type": "code",
   "execution_count": 7,
   "metadata": {},
   "outputs": [
    {
     "data": {
      "image/png": "[encoded data removed]",
      "text/plain": [
       "<Figure size 640x480 with 2 Axes>"
      ]
     },
     "metadata": {},
     "output_type": "display_data"
    }
   ],
   "source": [
    "# Plotting the original binary matrix\n",
    "plt.subplot(1, 2, 1)\n",
    "plt.title('Original')\n",
    "plt.matshow((x[0]), fignum=False)\n",
    "\n",
    "# Plotting the reconstructed binary matrix\n",
    "plt.subplot(1, 2, 2)\n",
    "plt.title('Reconstructed')\n",
    "plt.matshow((recon[0] >= 0.5)[0].int(), fignum=False)\n",
    "plt.show()\n"
   ]
  },
  {
   "cell_type": "code",
   "execution_count": 9,
   "metadata": {},
   "outputs": [
    {
     "name": "stderr",
     "output_type": "stream",
     "text": [
      "100%|██████████| 50000/50000 [02:28<00:00, 335.70it/s]\n"
     ]
    }
   ],
   "source": [
    "burned_r = []\n",
    "for x, r in tqdm(dataset):\n",
    "    _, r_ = model(x.unsqueeze(0), r.unsqueeze(0))\n",
    "    burned_r.append(r_.item())"
   ]
  },
  {
   "cell_type": "code",
   "execution_count": 11,
   "metadata": {},
   "outputs": [
    {
     "data": {
      "image/png": "[encoded data removed]",
      "text/plain": [
       "<Figure size 640x480 with 1 Axes>"
      ]
     },
     "metadata": {},
     "output_type": "display_data"
    }
   ],
   "source": [
    "# plotting the distribution of burned_r\n",
    "plt.hist(burned_r, bins=50, edgecolor='black')\n",
    "plt.title('Distribution of Burned Cells')\n",
    "plt.xlabel('Burned Cell Value')\n",
    "plt.ylabel('Frequency')\n",
    "plt.show()"
   ]
  },
  {
   "cell_type": "code",
   "execution_count": null,
   "metadata": {},
   "outputs": [],
   "source": [
    "model.training = True"
   ]
  },
  {
   "cell_type": "code",
   "execution_count": 8,
   "metadata": {},
   "outputs": [],
   "source": [
    "x, r = dataset[6]\n",
    "mu, log_sigma = model.encode(x.unsqueeze(0))"
   ]
  },
  {
   "cell_type": "code",
   "execution_count": 9,
   "metadata": {},
   "outputs": [],
   "source": [
    "sample = model.latent_sample(mu, 10*log_sigma)"
   ]
  },
  {
   "cell_type": "code",
   "execution_count": 10,
   "metadata": {},
   "outputs": [],
   "source": [
    "x, r = dataset[7]\n",
    "mu_, log_sigma_ = model.encode(x.unsqueeze(0))"
   ]
  },
  {
   "cell_type": "code",
   "execution_count": 11,
   "metadata": {},
   "outputs": [],
   "source": [
    "alpha = 0.5\n",
    "interp = alpha * mu + (1 - alpha) * mu_"
   ]
  },
  {
   "cell_type": "code",
   "execution_count": 12,
   "metadata": {},
   "outputs": [
    {
     "data": {
      "image/png": "[encoded data removed]",
      "text/plain": [
       "<Figure size 640x480 with 3 Axes>"
      ]
     },
     "metadata": {},
     "output_type": "display_data"
    }
   ],
   "source": [
    "# Plot the original image and the sampled image and interp\n",
    "plt.subplot(1, 3, 1)\n",
    "plt.title('Original 1')\n",
    "plt.matshow((x[0] > 0).int(), fignum=False)\n",
    "\n",
    "plt.subplot(1, 3, 2)\n",
    "plt.title('Original 2')\n",
    "plt.matshow(model.decode(sample)[0][0] >= 0.5, fignum=False)\n",
    "\n",
    "plt.subplot(1, 3, 3)\n",
    "plt.title('Interpolated')\n",
    "plt.matshow(model.decode(interp)[0][0] >= 0.5, fignum=False)\n",
    "\n",
    "plt.show()\n"
   ]
  },
  {
   "cell_type": "code",
   "execution_count": 13,
   "metadata": {},
   "outputs": [],
   "source": [
    "def calc_fitness(model, embedding, n_sims = 50):\n",
    "        \"\"\"\n",
    "        Calculates the average number of burned cells of embedding's associated\n",
    "        solution.\n",
    "        \"\"\"\n",
    "        print(embedding.shape)\n",
    "        solution = model.decode(embedding[0])\n",
    "        _, indices = torch.topk(solution.flatten(), 20)\n",
    "        indices = np.unravel_index(indices, (20, 20))\n",
    "        matrix = torch.zeros((20, 20))\n",
    "        matrix[indices] = 1.\n",
    "        assert(matrix.sum().item() == 20)\n",
    "        write_firewall_file(matrix * -1.)\n",
    "        n_weathers = len([i for i in os.listdir(\"../../../../data/complete_random/homo_2/Sub20x20/Weathers/\") if i.endswith('.csv')])-2\n",
    "        exec_str = f\"../../../algorithms/eval/C2F-W/Cell2FireC/Cell2Fire --input-instance-folder ../../../../data/complete_random/homo_2/Sub20x20/ --output-folder ../../../algorithms/eval/results/ --sim-years 1 --nsims {n_sims}--Fire-Period-Length 1.0 --output-messages --ROS-CV 0.0 --seed 123 --weather random --ignitions --IgnitionRad 4 --sim C --final-grid --nweathers {n_weathers} --FirebreakCells ../../../algorithms/eval/harvested/HarvestedCells.csv\"\n",
    "        os.system(exec_str + \" >/dev/null 2>&1\")\n",
    "        reward = 0\n",
    "        base_directory = f\"../../../algorithms/eval/results/Grids/Grids\"\n",
    "        for j in range(1, n_sims+1):\n",
    "            dir = f\"{base_directory}{str(j)}/\"\n",
    "            print(dir)\n",
    "            files = os.listdir(dir)\n",
    "            my_data = genfromtxt(dir+files[-1], delimiter=',')\n",
    "            # Burned cells are counted and turned into negative rewards\n",
    "            for cell in my_data.flatten():\n",
    "                if cell == 1:\n",
    "                    reward-= 1\n",
    "        erase_firebreaks()\n",
    "        return 1 + ((reward/n_sims) / 400)"
   ]
  },
  {
   "cell_type": "code",
   "execution_count": 14,
   "metadata": {},
   "outputs": [
    {
     "name": "stdout",
     "output_type": "stream",
     "text": [
      "torch.Size([1, 1, 256])\n",
      "../../../algorithms/eval/results/Grids/Grids1/\n",
      "../../../algorithms/eval/results/Grids/Grids2/\n",
      "../../../algorithms/eval/results/Grids/Grids3/\n",
      "../../../algorithms/eval/results/Grids/Grids4/\n",
      "../../../algorithms/eval/results/Grids/Grids5/\n",
      "../../../algorithms/eval/results/Grids/Grids6/\n",
      "../../../algorithms/eval/results/Grids/Grids7/\n",
      "../../../algorithms/eval/results/Grids/Grids8/\n",
      "../../../algorithms/eval/results/Grids/Grids9/\n",
      "../../../algorithms/eval/results/Grids/Grids10/\n"
     ]
    },
    {
     "data": {
      "text/plain": [
       "0.7475"
      ]
     },
     "execution_count": 14,
     "metadata": {},
     "output_type": "execute_result"
    }
   ],
   "source": [
    "calc_fitness(model, interp.unsqueeze(0), n_sims=10)"
   ]
  },
  {
   "cell_type": "code",
   "execution_count": null,
   "metadata": {},
   "outputs": [],
   "source": []
  }
 ],
 "metadata": {
  "kernelspec": {
   "display_name": "3.11.6",
   "language": "python",
   "name": "python3"
  },
  "language_info": {
   "codemirror_mode": {
    "name": "ipython",
    "version": 3
   },
   "file_extension": ".py",
   "mimetype": "text/x-python",
   "name": "python",
   "nbconvert_exporter": "python",
   "pygments_lexer": "ipython3",
   "version": "3.11.6"
  }
 },
 "nbformat": 4,
 "nbformat_minor": 2
}
