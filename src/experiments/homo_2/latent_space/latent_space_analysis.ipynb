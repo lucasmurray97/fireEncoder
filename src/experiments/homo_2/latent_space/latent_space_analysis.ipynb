{
 "cells": [
  {
   "cell_type": "code",
   "execution_count": 43,
   "metadata": {},
   "outputs": [],
   "source": [
    "import torch\n",
    "import torch.nn as nn\n",
    "import torchvision\n",
    "import torchvision.transforms as T\n",
    "import torchvision.datasets as D\n",
    "import torch.nn.functional as F\n",
    "import numpy as np\n",
    "from numpy import genfromtxt\n",
    "import os\n",
    "import pickle\n",
    "from matplotlib import pyplot as plt\n",
    "import sys\n",
    "sys.path.append(\"../../../\")\n",
    "from utils.utils import MyDataset, MyDatasetV2, show_image, visualise_output\n",
    "from networks.autoencoder import FireAutoencoder\n",
    "from networks.autoencoder_reward import FireAutoencoder_reward\n",
    "from networks.vae import VAE\n",
    "from networks.vae_v2 import VAE_V2\n",
    "from networks.ccvae import CCVAE\n",
    "from networks.utils import EarlyStopper\n",
    "import argparse\n",
    "from algorithms.GA.utils import write_firewall_file, erase_firebreaks\n",
    "from tqdm import tqdm\n"
   ]
  },
  {
   "cell_type": "code",
   "execution_count": 2,
   "metadata": {},
   "outputs": [],
   "source": [
    "dataset = MyDatasetV2(\"../../../../data/complete_random/homo_2/\")"
   ]
  },
  {
   "cell_type": "code",
   "execution_count": 3,
   "metadata": {},
   "outputs": [],
   "source": [
    "params = {\n",
    "\n",
    "}\n",
    "params[\"latent_dims\"] = 256\n",
    "params[\"capacity\"] = 128\n",
    "params[\"use_gpu\"] =  False\n",
    "params[\"input_size\"] = 20\n",
    "params[\"epochs\"] = 20\n",
    "params[\"sigmoid\"] = True\n",
    "params[\"lr1\"] = 1e-5\n",
    "params[\"instance\"] = \"homo_2\"\n",
    "params[\"not_reduced\"] = False\n",
    "params[\"variational_beta\"] = 0.1\n",
    "params[\"distribution_std\"] = 0.1\n",
    "params[\"latent_portion\"] = 0.5\n",
    "params[\"alpha\"] = 1000"
   ]
  },
  {
   "cell_type": "code",
   "execution_count": 4,
   "metadata": {},
   "outputs": [
    {
     "data": {
      "text/plain": [
       "CCVAE(\n",
       "  (conv1): Conv2d(4, 128, kernel_size=(4, 4), stride=(2, 2), padding=(1, 1))\n",
       "  (conv2): Conv2d(128, 256, kernel_size=(4, 4), stride=(2, 2), padding=(1, 1))\n",
       "  (fc_mu): Linear(in_features=6400, out_features=256, bias=True)\n",
       "  (fc_logvar): Linear(in_features=6400, out_features=256, bias=True)\n",
       "  (bn1): BatchNorm2d(128, eps=1e-05, momentum=0.1, affine=True, track_running_stats=True)\n",
       "  (drop1): Dropout(p=0.5, inplace=False)\n",
       "  (bn2): BatchNorm2d(256, eps=1e-05, momentum=0.1, affine=True, track_running_stats=True)\n",
       "  (drop2): Dropout(p=0.5, inplace=False)\n",
       "  (fc): Linear(in_features=128, out_features=6400, bias=True)\n",
       "  (conv1_): ConvTranspose2d(256, 128, kernel_size=(4, 4), stride=(2, 2), padding=(1, 1))\n",
       "  (conv2_): ConvTranspose2d(128, 1, kernel_size=(4, 4), stride=(2, 2), padding=(1, 1))\n",
       "  (bn1_2): BatchNorm2d(128, eps=1e-05, momentum=0.1, affine=True, track_running_stats=True)\n",
       "  (drop1_2): Dropout(p=0.5, inplace=False)\n",
       "  (fc_r1): Linear(in_features=128, out_features=64, bias=True)\n",
       "  (bn_r1): BatchNorm1d(64, eps=1e-05, momentum=0.1, affine=True, track_running_stats=True)\n",
       "  (fc_r2): Linear(in_features=64, out_features=1, bias=True)\n",
       "  (criterion_vae): BCELoss()\n",
       "  (criterion_r): MSELoss()\n",
       ")"
      ]
     },
     "execution_count": 4,
     "metadata": {},
     "output_type": "execute_result"
    }
   ],
   "source": [
    "model = CCVAE(params).to(\"cpu\")\n",
    "model.eval()"
   ]
  },
  {
   "cell_type": "code",
   "execution_count": 10,
   "metadata": {},
   "outputs": [
    {
     "data": {
      "text/plain": [
       "<All keys matched successfully>"
      ]
     },
     "execution_count": 10,
     "metadata": {},
     "output_type": "execute_result"
    }
   ],
   "source": [
    "# Load weights\n",
    "#burned_loss_sub20x20_latent=256_capacity=128_20_sigmoid=True_lr1=1e-05_not_reduced=False_variational_beta=0.1_distribution_std=1.0\n",
    "model.load_state_dict(torch.load(f'../../../weights/homo_2/CCVAE/sub20x20_latent=256_capacity=128_100_sigmoid=True_T1=100_T2=100_lr1=1e-05_lr2=0.0001_lr3=0.0001_normalize=False_weight_decay=0_not_reduced=False_variational_beta=0.1_distribution_std=0.1_alpha=10000.0.pth', map_location=torch.device('cpu') ))"
   ]
  },
  {
   "cell_type": "code",
   "execution_count": 11,
   "metadata": {},
   "outputs": [],
   "source": [
    "x, r = dataset[6]\n",
    "recon, r_ = model(x.unsqueeze(0), r.unsqueeze(0))"
   ]
  },
  {
   "cell_type": "code",
   "execution_count": 12,
   "metadata": {},
   "outputs": [
    {
     "data": {
      "image/png": "[encoded data removed]",
      "text/plain": [
       "<Figure size 640x480 with 2 Axes>"
      ]
     },
     "metadata": {},
     "output_type": "display_data"
    }
   ],
   "source": [
    "# Plotting the original binary matrix\n",
    "plt.subplot(1, 2, 1)\n",
    "plt.title('Original')\n",
    "plt.matshow((x[0] > 0).int(), fignum=False)\n",
    "\n",
    "# Plotting the reconstructed binary matrix\n",
    "plt.subplot(1, 2, 2)\n",
    "plt.title('Reconstructed')\n",
    "plt.matshow((recon[0] >= 0.5)[0].int(), fignum=False)\n",
    "plt.show()"
   ]
  },
  {
   "cell_type": "code",
   "execution_count": 13,
   "metadata": {},
   "outputs": [
    {
     "data": {
      "text/plain": [
       "(tensor([0.7225]), tensor([[0.7259]], grad_fn=<SigmoidBackward0>))"
      ]
     },
     "execution_count": 13,
     "metadata": {},
     "output_type": "execute_result"
    }
   ],
   "source": [
    "# plot both solutions side by side\n",
    "r, r_\n"
   ]
  },
  {
   "cell_type": "code",
   "execution_count": null,
   "metadata": {},
   "outputs": [
    {
     "ename": "TypeError",
     "evalue": "'>' not supported between instances of 'list' and 'int'",
     "output_type": "error",
     "traceback": [
      "\u001b[0;31m---------------------------------------------------------------------------\u001b[0m",
      "\u001b[0;31mTypeError\u001b[0m                                 Traceback (most recent call last)",
      "Cell \u001b[0;32mIn[17], line 2\u001b[0m\n\u001b[1;32m      1\u001b[0m burned_r \u001b[38;5;241m=\u001b[39m []\n\u001b[0;32m----> 2\u001b[0m \u001b[38;5;28;01mfor\u001b[39;00m x, r \u001b[38;5;129;01min\u001b[39;00m tqdm(\u001b[43mdataset\u001b[49m\u001b[43m[\u001b[49m\u001b[43m:\u001b[49m\u001b[38;5;241;43m500\u001b[39;49m\u001b[43m]\u001b[49m):\n\u001b[1;32m      3\u001b[0m     _, r_ \u001b[38;5;241m=\u001b[39m model(x\u001b[38;5;241m.\u001b[39munsqueeze(\u001b[38;5;241m0\u001b[39m), r\u001b[38;5;241m.\u001b[39munsqueeze(\u001b[38;5;241m0\u001b[39m))\n\u001b[1;32m      4\u001b[0m     burned_r\u001b[38;5;241m.\u001b[39mappend(r_\u001b[38;5;241m.\u001b[39mitem())\n",
      "File \u001b[0;32m~/Desktop/Trabajo/fireEncoder/src/experiments/homo_2/latent_space/../../../utils/utils.py:106\u001b[0m, in \u001b[0;36mMyDatasetV2.__getitem__\u001b[0;34m(self, i)\u001b[0m\n\u001b[1;32m    100\u001b[0m \u001b[38;5;250m\u001b[39m\u001b[38;5;124;03m\"\"\"\u001b[39;00m\n\u001b[1;32m    101\u001b[0m \u001b[38;5;124;03mReturns the ith element of the dataset, each composed of:\u001b[39;00m\n\u001b[1;32m    102\u001b[0m \u001b[38;5;124;03mdata: Tensor of (4, 20, 20)\u001b[39;00m\n\u001b[1;32m    103\u001b[0m \u001b[38;5;124;03mvaluation: float Tensor\u001b[39;00m\n\u001b[1;32m    104\u001b[0m \u001b[38;5;124;03m\"\"\"\u001b[39;00m\n\u001b[1;32m    105\u001b[0m \u001b[38;5;66;03m# We load solution\u001b[39;00m\n\u001b[0;32m--> 106\u001b[0m firebreaks \u001b[38;5;241m=\u001b[39m torch\u001b[38;5;241m.\u001b[39mfrom_numpy(np\u001b[38;5;241m.\u001b[39mexpand_dims((\u001b[38;5;28;43mself\u001b[39;49m\u001b[38;5;241;43m.\u001b[39;49m\u001b[43mdata\u001b[49m\u001b[43m[\u001b[49m\u001b[43mi\u001b[49m\u001b[43m]\u001b[49m\u001b[43m[\u001b[49m\u001b[38;5;241;43m0\u001b[39;49m\u001b[43m]\u001b[49m\u001b[43m \u001b[49m\u001b[38;5;241;43m>\u001b[39;49m\u001b[43m \u001b[49m\u001b[38;5;241;43m0\u001b[39;49m)\u001b[38;5;241m.\u001b[39mastype(\u001b[38;5;124m'\u001b[39m\u001b[38;5;124mfloat32\u001b[39m\u001b[38;5;124m'\u001b[39m), axis\u001b[38;5;241m=\u001b[39m\u001b[38;5;241m0\u001b[39m))\n\u001b[1;32m    107\u001b[0m \u001b[38;5;66;03m# We generate a tensor of solution + landscape\u001b[39;00m\n\u001b[1;32m    108\u001b[0m data \u001b[38;5;241m=\u001b[39m torch\u001b[38;5;241m.\u001b[39mcat([firebreaks, \u001b[38;5;28mself\u001b[39m\u001b[38;5;241m.\u001b[39mlandscape], dim\u001b[38;5;241m=\u001b[39m\u001b[38;5;241m0\u001b[39m)\n",
      "\u001b[0;31mTypeError\u001b[0m: '>' not supported between instances of 'list' and 'int'"
     ]
    }
   ],
   "source": [
    "burned_r = []\n",
    "for x, r in tqdm(dataset):\n",
    "    _, r_ = model(x.unsqueeze(0), r.unsqueeze(0))\n",
    "    burned_r.append(r_.item())"
   ]
  },
  {
   "cell_type": "code",
   "execution_count": 64,
   "metadata": {},
   "outputs": [
    {
     "data": {
      "image/png": "[encoded data removed]",
      "text/plain": [
       "<Figure size 640x480 with 1 Axes>"
      ]
     },
     "metadata": {},
     "output_type": "display_data"
    }
   ],
   "source": [
    "# plotting the distribution of burned_r\n",
    "plt.hist(burned_r, bins=50, edgecolor='black')\n",
    "plt.title('Distribution of Burned Cells')\n",
    "plt.xlabel('Burned Cell Value')\n",
    "plt.ylabel('Frequency')\n",
    "plt.show()"
   ]
  },
  {
   "cell_type": "code",
   "execution_count": null,
   "metadata": {},
   "outputs": [],
   "source": [
    "model.training = True"
   ]
  },
  {
   "cell_type": "code",
   "execution_count": 20,
   "metadata": {},
   "outputs": [],
   "source": [
    "x, r = dataset[6]\n",
    "mu, log_sigma = model.encode(x.unsqueeze(0))"
   ]
  },
  {
   "cell_type": "code",
   "execution_count": 32,
   "metadata": {},
   "outputs": [],
   "source": [
    "sample = model.latent_sample(mu, 10*log_sigma)"
   ]
  },
  {
   "cell_type": "code",
   "execution_count": 36,
   "metadata": {},
   "outputs": [],
   "source": [
    "x, r = dataset[7]\n",
    "mu_, log_sigma_ = model.encode(x.unsqueeze(0))"
   ]
  },
  {
   "cell_type": "code",
   "execution_count": 37,
   "metadata": {},
   "outputs": [],
   "source": [
    "alpha = 0.5\n",
    "interp = alpha * mu + (1 - alpha) * mu_"
   ]
  },
  {
   "cell_type": "code",
   "execution_count": 39,
   "metadata": {},
   "outputs": [
    {
     "data": {
      "image/png": "[encoded data removed]",
      "text/plain": [
       "<Figure size 640x480 with 3 Axes>"
      ]
     },
     "metadata": {},
     "output_type": "display_data"
    }
   ],
   "source": [
    "# Plot the original image and the sampled image and interp\n",
    "plt.subplot(1, 3, 1)\n",
    "plt.title('Original 1')\n",
    "plt.matshow((x[0] > 0).int(), fignum=False)\n",
    "\n",
    "plt.subplot(1, 3, 2)\n",
    "plt.title('Original 2')\n",
    "plt.matshow(model.decode(sample)[0][0] >= 0.5, fignum=False)\n",
    "\n",
    "plt.subplot(1, 3, 3)\n",
    "plt.title('Interpolated')\n",
    "plt.matshow(model.decode(interp)[0][0] >= 0.5, fignum=False)\n",
    "\n",
    "plt.show()\n"
   ]
  },
  {
   "cell_type": "code",
   "execution_count": null,
   "metadata": {},
   "outputs": [],
   "source": [
    "def calc_fitness(model, embedding, n_sims = 50):\n",
    "        \"\"\"\n",
    "        Calculates the average number of burned cells of embedding's associated\n",
    "        solution.\n",
    "        \"\"\"\n",
    "        print(embedding.shape)\n",
    "        solution = model.decode(embedding[0])\n",
    "        _, indices = torch.topk(solution.flatten(), 20)\n",
    "        indices = np.unravel_index(indices, (20, 20))\n",
    "        matrix = torch.zeros((20, 20))\n",
    "        matrix[indices] = 1.\n",
    "        assert(matrix.sum().item() == 20)\n",
    "        write_firewall_file(matrix * -1.)\n",
    "        n_weathers = len([i for i in os.listdir(\"../../../../data/complete_random/homo_2/Sub20x20/Weathers/\") if i.endswith('.csv')])-2\n",
    "        exec_str = f\"../../../algorithms/eval/C2F-W/Cell2FireC/Cell2Fire --input-instance-folder ../../../../data/complete_random/homo_2/Sub20x20/ --output-folder ../../../algorithms/eval/results/ --sim-years 1 --nsims {n_sims}--Fire-Period-Length 1.0 --output-messages --ROS-CV 0.0 --seed 123 --weather random --ignitions --IgnitionRad 4 --sim C --final-grid --nweathers {n_weathers} --FirebreakCells ../eval/harvested/HarvestedCells.csv\"\n",
    "        os.system(exec_str + \" >/dev/null 2>&1\")\n",
    "        reward = 0\n",
    "        base_directory = f\"../../../algorithms/eval/results/Grids/Grids\"\n",
    "        for j in range(1, n_sims+1):\n",
    "            dir = f\"{base_directory}{str(j)}/\"\n",
    "            print(dir)\n",
    "            files = os.listdir(dir)\n",
    "            my_data = genfromtxt(dir+files[-1], delimiter=',')\n",
    "            # Burned cells are counted and turned into negative rewards\n",
    "            for cell in my_data.flatten():\n",
    "                if cell == 1:\n",
    "                    reward-= 1\n",
    "        erase_firebreaks()\n",
    "        return 1 + ((reward/n_sims) / 400)"
   ]
  },
  {
   "cell_type": "code",
   "execution_count": 71,
   "metadata": {},
   "outputs": [
    {
     "name": "stdout",
     "output_type": "stream",
     "text": [
      "torch.Size([1, 1, 256])\n",
      "------ Command line values ------\n",
      "InFolder: ../../../../data/complete_random/homo_2/Sub20x20/ \n",
      "OutFolder: ../../../algorithms/eval/results/ \n",
      "WeatherOpt: random \n",
      "FirebreakCells: ../eval/harvested/HarvestedCells.csv \n",
      "OutMessages: 1 \n",
      "Ignitions: 1 \n",
      "FinalGrid: 1 \n",
      "TotalYears: 1 \n",
      "TotalSims: 10--Fire-Period-Length \n",
      "Simulator: C \n",
      "IgnitionRadius: 4 \n",
      "ROS-CV: 0.0 \n",
      "seed: 123 \n",
      "No cur.asc file, filling with NaN\n",
      "No cbd.asc file, filling with NaN\n",
      "No cbh.asc file, filling with NaN\n",
      "No ccf.asc file, filling with NaN\n",
      "No py.asc file, filling with NaN\n",
      "No fmc.asc file, filling with NaN\n",
      "Data file generated successfully\n",
      "File Generated------------------Forest Data ----------------------\n",
      "\n",
      "Forest DataFrame from instance ../../../../data/complete_random/homo_2/Sub20x20/Data.csv\n",
      "Number of cells: 400\n",
      "\n",
      "Firebreak Cells :\n",
      "\n",
      "\n",
      "Weather DataFrame from instance ../../../../data/complete_random/homo_2/Sub20x20/Weather.csv\n",
      "Weather Periods: 4\n",
      "There are 1 threads\n",
      "\n",
      "Weather file selected: ../../../../data/complete_random/homo_2/Sub20x20/Weathers/Weather1.csv\n",
      "Weather Periods: 4\n",
      "\n",
      "Selected ignition point for Year 1, sim 1: 154\n",
      "----------------------------- Results -----------------------------\n",
      "Total Available Cells:    334 - % of the Forest: 83.5%\n",
      "Total Burnt Cells:        66 - % of the Forest: 16.5%\n",
      "Total Non-Burnable Cells: 0 - % of the Forest: 0%\n",
      "Total Firebreak Cells: 0 - % of the Forest: 0%\n",
      "\n",
      "Weather file selected: ../../../../data/complete_random/homo_2/Sub20x20/Weathers/Weather79.csv\n",
      "Weather Periods: 4\n",
      "\n",
      "Selected ignition point for Year 1, sim 2: 129\n",
      "----------------------------- Results -----------------------------\n",
      "Total Available Cells:    340 - % of the Forest: 85%\n",
      "Total Burnt Cells:        60 - % of the Forest: 15%\n",
      "Total Non-Burnable Cells: 0 - % of the Forest: 0%\n",
      "Total Firebreak Cells: 0 - % of the Forest: 0%\n",
      "\n",
      "Weather file selected: ../../../../data/complete_random/homo_2/Sub20x20/Weathers/Weather17.csv\n",
      "Weather Periods: 4\n",
      "\n",
      "Selected ignition point for Year 1, sim 3: 212\n",
      "----------------------------- Results -----------------------------\n",
      "Total Available Cells:    283 - % of the Forest: 70.75%\n",
      "Total Burnt Cells:        117 - % of the Forest: 29.25%\n",
      "Total Non-Burnable Cells: 0 - % of the Forest: 0%\n",
      "Total Firebreak Cells: 0 - % of the Forest: 0%\n",
      "\n",
      "Weather file selected: ../../../../data/complete_random/homo_2/Sub20x20/Weathers/Weather186.csv\n",
      "Weather Periods: 4\n",
      "\n",
      "Selected ignition point for Year 1, sim 4: 270\n",
      "----------------------------- Results -----------------------------\n",
      "Total Available Cells:    254 - % of the Forest: 63.5%\n",
      "Total Burnt Cells:        146 - % of the Forest: 36.5%\n",
      "Total Non-Burnable Cells: 0 - % of the Forest: 0%\n",
      "Total Firebreak Cells: 0 - % of the Forest: 0%\n",
      "\n",
      "Weather file selected: ../../../../data/complete_random/homo_2/Sub20x20/Weathers/Weather298.csv\n",
      "Weather Periods: 4\n",
      "\n",
      "Selected ignition point for Year 1, sim 5: 126\n",
      "----------------------------- Results -----------------------------\n",
      "Total Available Cells:    280 - % of the Forest: 70%\n",
      "Total Burnt Cells:        120 - % of the Forest: 30%\n",
      "Total Non-Burnable Cells: 0 - % of the Forest: 0%\n",
      "Total Firebreak Cells: 0 - % of the Forest: 0%\n",
      "\n",
      "Weather file selected: ../../../../data/complete_random/homo_2/Sub20x20/Weathers/Weather3.csv\n",
      "Weather Periods: 4\n",
      "\n",
      "Selected ignition point for Year 1, sim 6: 190\n",
      "----------------------------- Results -----------------------------\n",
      "Total Available Cells:    295 - % of the Forest: 73.75%\n",
      "Total Burnt Cells:        105 - % of the Forest: 26.25%\n",
      "Total Non-Burnable Cells: 0 - % of the Forest: 0%\n",
      "Total Firebreak Cells: 0 - % of the Forest: 0%\n",
      "\n",
      "Weather file selected: ../../../../data/complete_random/homo_2/Sub20x20/Weathers/Weather138.csv\n",
      "Weather Periods: 4\n",
      "\n",
      "Selected ignition point for Year 1, sim 7: 289\n",
      "----------------------------- Results -----------------------------\n",
      "Total Available Cells:    235 - % of the Forest: 58.75%\n",
      "Total Burnt Cells:        165 - % of the Forest: 41.25%\n",
      "Total Non-Burnable Cells: 0 - % of the Forest: 0%\n",
      "Total Firebreak Cells: 0 - % of the Forest: 0%\n",
      "\n",
      "Weather file selected: ../../../../data/complete_random/homo_2/Sub20x20/Weathers/Weather334.csv\n",
      "Weather Periods: 4\n",
      "\n",
      "Selected ignition point for Year 1, sim 8: 271\n",
      "----------------------------- Results -----------------------------\n",
      "Total Available Cells:    279 - % of the Forest: 69.75%\n",
      "Total Burnt Cells:        121 - % of the Forest: 30.25%\n",
      "Total Non-Burnable Cells: 0 - % of the Forest: 0%\n",
      "Total Firebreak Cells: 0 - % of the Forest: 0%\n",
      "\n",
      "Weather file selected: ../../../../data/complete_random/homo_2/Sub20x20/Weathers/Weather303.csv\n",
      "Weather Periods: 4\n",
      "\n",
      "Selected ignition point for Year 1, sim 9: 248\n",
      "----------------------------- Results -----------------------------\n",
      "Total Available Cells:    172 - % of the Forest: 43%\n",
      "Total Burnt Cells:        228 - % of the Forest: 57%\n",
      "Total Non-Burnable Cells: 0 - % of the Forest: 0%\n",
      "Total Firebreak Cells: 0 - % of the Forest: 0%\n",
      "\n",
      "Weather file selected: ../../../../data/complete_random/homo_2/Sub20x20/Weathers/Weather252.csv\n",
      "Weather Periods: 4\n",
      "\n",
      "Selected ignition point for Year 1, sim 10: 287\n",
      "----------------------------- Results -----------------------------\n",
      "Total Available Cells:    131 - % of the Forest: 32.75%\n",
      "Total Burnt Cells:        269 - % of the Forest: 67.25%\n",
      "Total Non-Burnable Cells: 0 - % of the Forest: 0%\n",
      "Total Firebreak Cells: 0 - % of the Forest: 0%\n",
      "../../../algorithms/eval/results/Grids/Grids1/\n",
      "../../../algorithms/eval/results/Grids/Grids2/\n",
      "../../../algorithms/eval/results/Grids/Grids3/\n",
      "../../../algorithms/eval/results/Grids/Grids4/\n",
      "../../../algorithms/eval/results/Grids/Grids5/\n",
      "../../../algorithms/eval/results/Grids/Grids6/\n",
      "../../../algorithms/eval/results/Grids/Grids7/\n",
      "../../../algorithms/eval/results/Grids/Grids8/\n",
      "../../../algorithms/eval/results/Grids/Grids9/\n",
      "../../../algorithms/eval/results/Grids/Grids10/\n"
     ]
    },
    {
     "data": {
      "text/plain": [
       "0.65075"
      ]
     },
     "execution_count": 71,
     "metadata": {},
     "output_type": "execute_result"
    }
   ],
   "source": [
    "calc_fitness(model, interp.unsqueeze(0), n_sims=10)"
   ]
  },
  {
   "cell_type": "code",
   "execution_count": null,
   "metadata": {},
   "outputs": [],
   "source": []
  }
 ],
 "metadata": {
  "kernelspec": {
   "display_name": "Python 3",
   "language": "python",
   "name": "python3"
  },
  "language_info": {
   "codemirror_mode": {
    "name": "ipython",
    "version": 3
   },
   "file_extension": ".py",
   "mimetype": "text/x-python",
   "name": "python",
   "nbconvert_exporter": "python",
   "pygments_lexer": "ipython3",
   "version": "3.11.6"
  }
 },
 "nbformat": 4,
 "nbformat_minor": 2
}
