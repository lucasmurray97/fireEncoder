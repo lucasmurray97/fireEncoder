{
 "cells": [
  {
   "cell_type": "code",
   "execution_count": 1,
   "id": "ac90b283-e00d-49ec-b983-da8f86772f9c",
   "metadata": {},
   "outputs": [],
   "source": [
    "import torch\n",
    "import torch.nn as nn\n",
    "import torchvision\n",
    "import torchvision.transforms as T\n",
    "import torchvision.datasets as D\n",
    "import torch.nn.functional as F\n",
    "import numpy as np\n",
    "import pickle\n",
    "from matplotlib import pyplot as plt\n",
    "import sys\n",
    "sys.path.append(\"..\")\n",
    "from utils.utils import MyDataset, show_image, visualise_output\n",
    "from networks.autoencoder import FireAutoencoder\n",
    "from networks.autoencoder_reward import FireAutoencoder_reward\n",
    "import matplotlib\n",
    "from sklearn.linear_model import LinearRegression\n",
    "from sklearn.metrics import mean_squared_error\n",
    "import scipy\n",
    "from torch.autograd import Variable "
   ]
  },
  {
   "cell_type": "code",
   "execution_count": 2,
   "id": "f12fd07a-97f1-4ac7-b18e-63331acd9fa8",
   "metadata": {},
   "outputs": [],
   "source": [
    "train_dataset = MyDataset(root='../../data/complete_random/homo_2/Sub20x20_full_grid_.pkl',\n",
    "                             tform=lambda x: torch.from_numpy(x, dtype=torch.float\n",
    "))"
   ]
  },
  {
   "cell_type": "code",
   "execution_count": 62,
   "id": "e7276ce5-32a8-4681-a7bf-184295d2b189",
   "metadata": {},
   "outputs": [
    {
     "data": {
      "text/plain": [
       "<All keys matched successfully>"
      ]
     },
     "execution_count": 62,
     "metadata": {},
     "output_type": "execute_result"
    }
   ],
   "source": [
    "latent_dims = 128\n",
    "capacity = latent_dims//2 \n",
    "input_size = 20\n",
    "epochs = 100\n",
    "sigmoid = False\n",
    "net = FireAutoencoder_reward(capacity, input_size, latent_dims, sigmoid)\n",
    "net.load_state_dict(torch.load(f'../weights/AE_Reward/homo_2_sub20x20_latent={latent_dims}_capacity={capacity}_{epochs}_sigmoid={sigmoid}.pth', map_location=torch.device('cpu')))"
   ]
  },
  {
   "cell_type": "code",
   "execution_count": 63,
   "id": "0ddc3ba1-6561-4275-9259-feebd164c5fd",
   "metadata": {},
   "outputs": [],
   "source": [
    "full_loader  = torch.utils.data.DataLoader(train_dataset, batch_size=len(train_dataset), shuffle=False)"
   ]
  },
  {
   "cell_type": "code",
   "execution_count": 64,
   "id": "c0986517-dd2e-4342-950b-f39dfacb53ee",
   "metadata": {},
   "outputs": [],
   "source": [
    "all_images, all_r = next(iter(full_loader))"
   ]
  },
  {
   "cell_type": "code",
   "execution_count": 65,
   "id": "99008d1a-8841-4c95-9c85-99bad8990577",
   "metadata": {},
   "outputs": [],
   "source": [
    "embeddings = net.encode(all_images)"
   ]
  },
  {
   "cell_type": "code",
   "execution_count": 66,
   "id": "d1f47749-756d-4ed8-8345-b8d3243e84de",
   "metadata": {},
   "outputs": [
    {
     "data": {
      "text/plain": [
       "tensor([[[0., 0., 0., 0., 0., 0., 0., 0., 0., 0., 0., 0., 0., 0., 0., 0., 0., 0., 0., 0.],\n",
       "         [0., 0., 0., 0., 0., 0., 0., 0., 0., 0., 0., 0., 0., 0., 0., 0., 0., 0., 0., 0.],\n",
       "         [0., 0., 0., 0., 0., 0., 0., 0., 0., 0., 0., 0., 0., 0., 0., 0., 0., 0., 0., 0.],\n",
       "         [0., 0., 0., 0., 0., 0., 0., 0., 0., 0., 0., 0., 0., 0., 0., 0., 0., 0., 0., 0.],\n",
       "         [0., 0., 0., 0., 0., 0., 0., 0., 0., 0., 0., 0., 0., 0., 0., 0., 0., 0., 0., 0.],\n",
       "         [0., 0., 0., 0., 0., 0., 0., 0., 0., 0., 0., 0., 0., 0., 0., 0., 0., 0., 0., 0.],\n",
       "         [0., 0., 0., 0., 0., 0., 0., 0., 0., 0., 0., 0., 0., 0., 0., 0., 0., 0., 0., 0.],\n",
       "         [0., 0., 0., 0., 0., 0., 0., 0., 0., 0., 0., 0., 0., 0., 0., 0., 0., 0., 0., 0.],\n",
       "         [0., 0., 0., 0., 0., 0., 0., 0., 0., 0., 0., 0., 0., 0., 0., 0., 0., 0., 0., 0.],\n",
       "         [0., 0., 0., 0., 0., 0., 0., 0., 0., 0., 0., 0., 0., 0., 0., 0., 0., 0., 0., 0.],\n",
       "         [0., 0., 0., 0., 0., 0., 0., 0., 0., 0., 0., 0., 0., 0., 0., 0., 0., 0., 0., 0.],\n",
       "         [0., 0., 0., 0., 0., 0., 0., 0., 0., 0., 0., 0., 0., 0., 0., 0., 0., 0., 0., 0.],\n",
       "         [0., 0., 0., 0., 0., 0., 0., 0., 0., 0., 0., 0., 0., 0., 0., 0., 0., 0., 0., 0.],\n",
       "         [0., 0., 0., 0., 0., 0., 0., 0., 0., 0., 0., 0., 0., 0., 0., 0., 0., 0., 0., 0.],\n",
       "         [0., 0., 0., 0., 0., 0., 0., 0., 0., 0., 0., 0., 0., 0., 0., 0., 0., 0., 0., 0.],\n",
       "         [0., 0., 0., 0., 0., 0., 0., 0., 0., 0., 0., 0., 0., 0., 0., 0., 0., 0., 0., 0.],\n",
       "         [0., 0., 0., 0., 0., 0., 0., 0., 0., 0., 0., 0., 0., 0., 0., 0., 0., 0., 0., 0.],\n",
       "         [0., 0., 0., 0., 0., 0., 0., 0., 0., 0., 0., 0., 0., 0., 0., 0., 0., 0., 0., 0.],\n",
       "         [0., 0., 0., 0., 0., 0., 0., 0., 0., 0., 0., 0., 0., 0., 0., 0., 0., 0., 0., 0.],\n",
       "         [0., 0., 0., 0., 0., 0., 0., 0., 0., 0., 0., 0., 0., 0., 0., 0., 0., 0., 0., 0.]]],\n",
       "       grad_fn=<SelectBackward0>)"
      ]
     },
     "execution_count": 66,
     "metadata": {},
     "output_type": "execute_result"
    }
   ],
   "source": [
    "net.decode(embeddings)[0]"
   ]
  },
  {
   "cell_type": "code",
   "execution_count": 67,
   "id": "3d5438bc-6c09-484d-83f6-d067fecaab3b",
   "metadata": {},
   "outputs": [],
   "source": [
    "with torch.no_grad():\n",
    "    rewards = net.predict_reward(embeddings)"
   ]
  },
  {
   "cell_type": "code",
   "execution_count": 68,
   "id": "824d2618-c324-4cbf-8a1d-617430cbeb05",
   "metadata": {},
   "outputs": [
    {
     "data": {
      "image/png": "[encoded data removed]",
      "text/plain": [
       "<Figure size 640x480 with 1 Axes>"
      ]
     },
     "metadata": {},
     "output_type": "display_data"
    }
   ],
   "source": [
    "bins = np.arange(-1020, -500, 10)\n",
    "plt.hist(rewards.numpy(), bins=bins, align='left')\n",
    "plt.title('Distribución de las recompensas predecidas')\n",
    "plt.xlabel('Recompensa')\n",
    "plt.ylabel('Frecuencia')\n",
    "#plt.savefig(f\"linear_regresion/reward_classes_distr_{latent_dims}_{epochs}_sigmoid={sigmoid}.png.png\")\n",
    "plt.show()"
   ]
  },
  {
   "cell_type": "code",
   "execution_count": 69,
   "id": "500152b2-2455-4fd7-ba3b-efdb98a89a64",
   "metadata": {},
   "outputs": [],
   "source": [
    "minimum = Variable(torch.zeros(1, latent_dims), requires_grad=True) "
   ]
  },
  {
   "cell_type": "code",
   "execution_count": 70,
   "id": "8598c197-ff10-4296-bffc-e4b6884cbb97",
   "metadata": {},
   "outputs": [],
   "source": [
    "optimizer = torch.optim.Adam([minimum], lr = 0.001)"
   ]
  },
  {
   "cell_type": "code",
   "execution_count": 71,
   "id": "e9a72fc9-98bf-40c4-9856-105a69614496",
   "metadata": {},
   "outputs": [],
   "source": [
    "for i in range(10000):\n",
    "    my_single_scalar = -net.predict_reward(minimum[0])\n",
    "    optimizer.zero_grad()\n",
    "    my_single_scalar.backward()\n",
    "    optimizer.step()"
   ]
  },
  {
   "cell_type": "code",
   "execution_count": 72,
   "id": "8a969de4-660d-410a-8846-b4332f88ed2d",
   "metadata": {},
   "outputs": [
    {
     "data": {
      "text/plain": [
       "FireAutoencoder_reward(\n",
       "  (conv1): Conv2d(1, 64, kernel_size=(4, 4), stride=(2, 2), padding=(1, 1))\n",
       "  (conv2): Conv2d(64, 128, kernel_size=(4, 4), stride=(2, 2), padding=(1, 1))\n",
       "  (fc): Linear(in_features=3200, out_features=128, bias=True)\n",
       "  (fc_2): Linear(in_features=128, out_features=3200, bias=True)\n",
       "  (conv1_2): ConvTranspose2d(128, 64, kernel_size=(4, 4), stride=(2, 2), padding=(1, 1))\n",
       "  (conv2_2): ConvTranspose2d(64, 1, kernel_size=(4, 4), stride=(2, 2), padding=(1, 1))\n",
       "  (fc_r1): Linear(in_features=128, out_features=128, bias=True)\n",
       "  (fc_r2): Linear(in_features=128, out_features=64, bias=True)\n",
       "  (fc_r3): Linear(in_features=64, out_features=32, bias=True)\n",
       "  (fc_r4): Linear(in_features=32, out_features=1, bias=True)\n",
       "  (criterion_1): MSELoss()\n",
       "  (criterion_2): MSELoss()\n",
       ")"
      ]
     },
     "execution_count": 72,
     "metadata": {},
     "output_type": "execute_result"
    }
   ],
   "source": [
    "net.float()"
   ]
  },
  {
   "cell_type": "code",
   "execution_count": 73,
   "id": "e66c02ad-93cd-47a3-8db5-e802aaad23fa",
   "metadata": {},
   "outputs": [],
   "source": [
    "solution = net.decode(minimum.float().unsqueeze(0))"
   ]
  },
  {
   "cell_type": "code",
   "execution_count": 74,
   "id": "382b4439-95a7-41dd-9549-e0961bd66cb2",
   "metadata": {},
   "outputs": [
    {
     "data": {
      "text/plain": [
       "tensor([[[[0.4454, 0.0099, 0.0000, 0.0000, 0.0000, 0.0000, 0.0000, 2.4835,\n",
       "           0.0000, 0.0000, 0.0413, 0.0000, 0.0000, 1.3790, 0.0000, 0.0000,\n",
       "           0.0000, 3.5609, 0.0000, 1.2016],\n",
       "          [0.0000, 0.8590, 0.0000, 0.1401, 0.0000, 1.4239, 0.0000, 0.0000,\n",
       "           0.0000, 0.0000, 0.0000, 1.8938, 0.0000, 0.0000, 0.0000, 0.0000,\n",
       "           1.9485, 0.2824, 0.0000, 0.0000],\n",
       "          [1.0107, 0.0000, 0.0000, 0.0000, 0.0000, 0.0000, 0.0000, 0.0000,\n",
       "           1.4884, 1.5904, 0.0000, 0.0000, 0.0000, 0.0000, 0.0000, 0.0000,\n",
       "           0.0000, 0.0000, 0.0000, 0.6753],\n",
       "          [0.0000, 3.4532, 0.0000, 0.0000, 0.0000, 0.0000, 0.0000, 0.0000,\n",
       "           0.5831, 1.8555, 0.0000, 0.0000, 0.0000, 0.0000, 0.0000, 0.0000,\n",
       "           0.0000, 3.5963, 0.0000, 0.0000],\n",
       "          [5.0933, 0.0000, 0.0000, 0.0000, 0.0000, 0.0000, 0.0000, 0.0000,\n",
       "           0.0000, 0.0000, 0.0000, 0.0000, 0.0000, 0.0000, 0.0000, 0.0000,\n",
       "           0.0000, 0.0000, 0.0000, 0.0000],\n",
       "          [0.0000, 0.0000, 0.0000, 0.0000, 0.0000, 0.7132, 0.0000, 7.7640,\n",
       "           0.0000, 7.6210, 0.4932, 0.0000, 1.2511, 0.0000, 0.0000, 1.9299,\n",
       "           4.2191, 0.6684, 0.0000, 0.0000],\n",
       "          [1.9961, 2.5966, 0.0000, 0.0000, 0.0000, 0.0000, 0.0000, 0.0000,\n",
       "           0.0000, 0.0000, 0.0000, 0.0000, 2.0953, 0.0000, 0.0000, 0.0000,\n",
       "           0.0000, 0.0000, 3.5253, 0.0000],\n",
       "          [0.0000, 0.0000, 0.0000, 7.5566, 0.0000, 3.9745, 0.0000, 0.0000,\n",
       "           0.0000, 6.2360, 0.0000, 0.0000, 0.0000, 4.2792, 0.0000, 0.0000,\n",
       "           0.0000, 8.9723, 0.7876, 0.0000],\n",
       "          [2.4829, 0.0000, 0.0000, 0.0000, 0.0000, 0.0000, 0.0000, 0.0000,\n",
       "           6.1728, 0.0000, 0.0000, 0.0000, 0.0000, 0.0000, 0.8219, 1.0150,\n",
       "           0.4747, 0.0000, 6.0794, 0.0000],\n",
       "          [0.0000, 0.0000, 0.0000, 0.0000, 0.0000, 0.2920, 0.0000, 8.5639,\n",
       "           0.0000, 0.0000, 0.5364, 0.0000, 0.0000, 0.6994, 0.0000, 0.0000,\n",
       "           0.0000, 0.0000, 0.0000, 4.1053],\n",
       "          [2.0248, 0.0000, 0.0000, 0.0000, 0.0000, 0.9641, 1.0201, 0.0000,\n",
       "           0.3069, 0.0000, 0.0000, 0.0000, 0.0000, 0.0000, 4.2342, 0.0000,\n",
       "           0.0000, 0.3641, 3.3994, 0.0000],\n",
       "          [0.0000, 0.0000, 0.0000, 2.9843, 0.0000, 0.1319, 0.0000, 0.0000,\n",
       "           0.0000, 0.0000, 0.0000, 9.1967, 0.0000, 3.4103, 0.0000, 0.0000,\n",
       "           0.0000, 3.2246, 0.0000, 0.0000],\n",
       "          [2.1551, 0.0000, 0.0000, 0.0000, 0.0000, 0.0000, 0.0000, 0.0000,\n",
       "           0.0000, 0.5470, 0.0000, 0.0000, 6.5091, 0.0000, 1.1857, 0.0000,\n",
       "           4.3227, 0.0000, 0.0000, 0.0000],\n",
       "          [0.0000, 0.0000, 0.0000, 0.7619, 2.5344, 0.0000, 0.0000, 0.0000,\n",
       "           0.0000, 0.0000, 0.0000, 6.7820, 0.0000, 7.9854, 0.0000, 0.0000,\n",
       "           0.0000, 3.3198, 0.0000, 0.5063],\n",
       "          [0.0000, 0.0000, 0.0000, 0.0000, 0.0000, 0.0000, 0.0000, 0.0000,\n",
       "           0.0000, 0.0000, 0.0000, 0.0000, 2.4135, 0.0000, 0.0000, 0.0000,\n",
       "           0.0000, 0.0000, 0.0000, 0.5662],\n",
       "          [0.0000, 4.0207, 0.0000, 1.2770, 0.0000, 4.3292, 0.0000, 0.0000,\n",
       "           0.0000, 0.0000, 0.0000, 0.9608, 0.0000, 3.4864, 1.5285, 0.0000,\n",
       "           0.0000, 0.0000, 0.0000, 1.8794],\n",
       "          [0.0000, 0.0000, 0.0000, 0.0000, 0.0000, 5.9108, 0.0000, 0.0000,\n",
       "           0.0000, 0.0000, 0.0000, 0.0000, 4.0096, 0.0000, 0.0000, 0.0000,\n",
       "           0.0000, 0.0000, 1.7153, 1.5694],\n",
       "          [0.9047, 2.8850, 0.0000, 0.0000, 0.0000, 0.0000, 3.3421, 0.0000,\n",
       "           0.0000, 2.6355, 0.0000, 0.0000, 0.0000, 1.8512, 0.0000, 0.0000,\n",
       "           0.0000, 0.0000, 0.0000, 0.0000],\n",
       "          [1.8561, 0.0000, 5.2790, 0.0000, 0.0000, 1.2254, 0.0000, 0.0000,\n",
       "           0.0000, 0.0000, 4.6967, 0.0000, 0.0000, 0.0000, 0.0000, 0.0000,\n",
       "           0.0000, 0.0000, 1.4474, 0.5276],\n",
       "          [1.4229, 1.2233, 0.0000, 0.1216, 0.0000, 0.0848, 0.0000, 0.0000,\n",
       "           0.0000, 3.5294, 0.0000, 0.0000, 0.0000, 0.0000, 0.0000, 0.0000,\n",
       "           0.0000, 3.0054, 0.0000, 0.0000]]]], grad_fn=<ReluBackward0>)"
      ]
     },
     "execution_count": 74,
     "metadata": {},
     "output_type": "execute_result"
    }
   ],
   "source": [
    "solution"
   ]
  },
  {
   "cell_type": "code",
   "execution_count": 75,
   "id": "12848f4c-25be-414b-ba7b-98aeedfedb54",
   "metadata": {},
   "outputs": [],
   "source": [
    "if sigmoid:\n",
    "    solution[solution>=0.5] = 1\n",
    "    solution[solution<=0.5] = 0\n",
    "else:\n",
    "    solution[solution>0] = 1"
   ]
  },
  {
   "cell_type": "code",
   "execution_count": 76,
   "id": "05890e8c-4b29-4df9-88ab-cfad05abacb5",
   "metadata": {},
   "outputs": [
    {
     "data": {
      "image/png": "[encoded data removed]",
      "text/plain": [
       "<Figure size 640x480 with 2 Axes>"
      ]
     },
     "metadata": {},
     "output_type": "display_data"
    }
   ],
   "source": [
    "with torch.no_grad():\n",
    "        plt.title('Reconstrucción del mínimo')\n",
    "        plt.imshow(solution[0][0].numpy())\n",
    "        plt.savefig(f\"linear_regresion/AE_Reward/minimum_decoding_{latent_dims}_{epochs}_sigmoid={sigmoid}.png\")\n",
    "        plt.colorbar()\n",
    "        plt.show()"
   ]
  },
  {
   "cell_type": "code",
   "execution_count": 77,
   "id": "5a0255b4-0c95-46b5-b5ce-e73c3670b480",
   "metadata": {},
   "outputs": [
    {
     "name": "stdout",
     "output_type": "stream",
     "text": [
      "array([[1., 1., 0., 0., 0., 0., 0., 1., 0., 0., 1., 0., 0., 1., 0., 0.,\n",
      "        0., 1., 0., 1.],\n",
      "       [0., 1., 0., 1., 0., 1., 0., 0., 0., 0., 0., 1., 0., 0., 0., 0.,\n",
      "        1., 1., 0., 0.],\n",
      "       [1., 0., 0., 0., 0., 0., 0., 0., 1., 1., 0., 0., 0., 0., 0., 0.,\n",
      "        0., 0., 0., 1.],\n",
      "       [0., 1., 0., 0., 0., 0., 0., 0., 1., 1., 0., 0., 0., 0., 0., 0.,\n",
      "        0., 1., 0., 0.],\n",
      "       [1., 0., 0., 0., 0., 0., 0., 0., 0., 0., 0., 0., 0., 0., 0., 0.,\n",
      "        0., 0., 0., 0.],\n",
      "       [0., 0., 0., 0., 0., 1., 0., 1., 0., 1., 1., 0., 1., 0., 0., 1.,\n",
      "        1., 1., 0., 0.],\n",
      "       [1., 1., 0., 0., 0., 0., 0., 0., 0., 0., 0., 0., 1., 0., 0., 0.,\n",
      "        0., 0., 1., 0.],\n",
      "       [0., 0., 0., 1., 0., 1., 0., 0., 0., 1., 0., 0., 0., 1., 0., 0.,\n",
      "        0., 1., 1., 0.],\n",
      "       [1., 0., 0., 0., 0., 0., 0., 0., 1., 0., 0., 0., 0., 0., 1., 1.,\n",
      "        1., 0., 1., 0.],\n",
      "       [0., 0., 0., 0., 0., 1., 0., 1., 0., 0., 1., 0., 0., 1., 0., 0.,\n",
      "        0., 0., 0., 1.],\n",
      "       [1., 0., 0., 0., 0., 1., 1., 0., 1., 0., 0., 0., 0., 0., 1., 0.,\n",
      "        0., 1., 1., 0.],\n",
      "       [0., 0., 0., 1., 0., 1., 0., 0., 0., 0., 0., 1., 0., 1., 0., 0.,\n",
      "        0., 1., 0., 0.],\n",
      "       [1., 0., 0., 0., 0., 0., 0., 0., 0., 1., 0., 0., 1., 0., 1., 0.,\n",
      "        1., 0., 0., 0.],\n",
      "       [0., 0., 0., 1., 1., 0., 0., 0., 0., 0., 0., 1., 0., 1., 0., 0.,\n",
      "        0., 1., 0., 1.],\n",
      "       [0., 0., 0., 0., 0., 0., 0., 0., 0., 0., 0., 0., 1., 0., 0., 0.,\n",
      "        0., 0., 0., 1.],\n",
      "       [0., 1., 0., 1., 0., 1., 0., 0., 0., 0., 0., 1., 0., 1., 1., 0.,\n",
      "        0., 0., 0., 1.],\n",
      "       [0., 0., 0., 0., 0., 1., 0., 0., 0., 0., 0., 0., 1., 0., 0., 0.,\n",
      "        0., 0., 1., 1.],\n",
      "       [1., 1., 0., 0., 0., 0., 1., 0., 0., 1., 0., 0., 0., 1., 0., 0.,\n",
      "        0., 0., 0., 0.],\n",
      "       [1., 0., 1., 0., 0., 1., 0., 0., 0., 0., 1., 0., 0., 0., 0., 0.,\n",
      "        0., 0., 1., 1.],\n",
      "       [1., 1., 0., 1., 0., 1., 0., 0., 0., 1., 0., 0., 0., 0., 0., 0.,\n",
      "        0., 1., 0., 0.]], dtype=float32)\n"
     ]
    }
   ],
   "source": [
    "with torch.no_grad():\n",
    "    print(repr(solution[0][0].numpy()))"
   ]
  },
  {
   "cell_type": "code",
   "execution_count": null,
   "id": "10a77863-d26c-4fb1-8e86-12166a5226c0",
   "metadata": {},
   "outputs": [],
   "source": []
  },
  {
   "cell_type": "code",
   "execution_count": null,
   "id": "7ddea0be-e038-4b5f-b588-31987ea49ff0",
   "metadata": {},
   "outputs": [],
   "source": []
  }
 ],
 "metadata": {
  "kernelspec": {
   "display_name": "Python 3 (ipykernel)",
   "language": "python",
   "name": "python3"
  },
  "language_info": {
   "codemirror_mode": {
    "name": "ipython",
    "version": 3
   },
   "file_extension": ".py",
   "mimetype": "text/x-python",
   "name": "python",
   "nbconvert_exporter": "python",
   "pygments_lexer": "ipython3",
   "version": "3.11.6"
  }
 },
 "nbformat": 4,
 "nbformat_minor": 5
}
