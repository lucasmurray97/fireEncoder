{
 "cells": [
  {
   "cell_type": "code",
   "execution_count": 1,
   "id": "ac90b283-e00d-49ec-b983-da8f86772f9c",
   "metadata": {},
   "outputs": [],
   "source": [
    "import torch\n",
    "import torch.nn as nn\n",
    "import torchvision\n",
    "import torchvision.transforms as T\n",
    "import torchvision.datasets as D\n",
    "import torch.nn.functional as F\n",
    "import numpy as np\n",
    "import pickle\n",
    "from matplotlib import pyplot as plt\n",
    "import sys\n",
    "sys.path.append(\"..\")\n",
    "from utils.utils import MyDataset, show_image, visualise_output\n",
    "from networks.autoencoder import FireAutoencoder\n",
    "import matplotlib\n",
    "from sklearn.linear_model import LinearRegression\n",
    "from sklearn.metrics import mean_squared_error\n",
    "import scipy"
   ]
  },
  {
   "cell_type": "code",
   "execution_count": 2,
   "id": "f12fd07a-97f1-4ac7-b18e-63331acd9fa8",
   "metadata": {},
   "outputs": [],
   "source": [
    "train_dataset = MyDataset(root='../../data/complete_random/hetero_1/Sub20x20_full_grid.pkl',\n",
    "                             tform=lambda x: torch.from_numpy(x, dtype=torch.float\n",
    "))"
   ]
  },
  {
   "cell_type": "code",
   "execution_count": 3,
   "id": "e7276ce5-32a8-4681-a7bf-184295d2b189",
   "metadata": {},
   "outputs": [
    {
     "data": {
      "text/plain": [
       "<All keys matched successfully>"
      ]
     },
     "execution_count": 3,
     "metadata": {},
     "output_type": "execute_result"
    }
   ],
   "source": [
    "latent_dims = 256\n",
    "capacity = latent_dims//2 \n",
    "input_size = 20\n",
    "epochs = 100\n",
    "sigmoid = False\n",
    "instance = \"hetero_1\"\n",
    "lr1 = 1e-3\n",
    "params = {\n",
    "    \"input_size\": input_size,\n",
    "    \"latent_dims\": latent_dims,\n",
    "    \"capacity\": capacity,\n",
    "    \"epochs\": epochs,\n",
    "    \"sigmoid\": sigmoid,\n",
    "    \"instance\": instance,\n",
    "    \"lr1\": lr1,\n",
    "}\n",
    "net = FireAutoencoder(params)\n",
    "net.load_state_dict(torch.load(f'../weights/hetero_1/AE/sub20x20_latent={latent_dims}_capacity={capacity}_{epochs}_sigmoid={sigmoid}_T1=100_T2=100_lr1={lr1}_lr2=0.0001_lr3=0.0001_normalize=False_weight_decay=0.pth', map_location=torch.device('cpu')))"
   ]
  },
  {
   "cell_type": "code",
   "execution_count": 4,
   "id": "0ddc3ba1-6561-4275-9259-feebd164c5fd",
   "metadata": {},
   "outputs": [],
   "source": [
    "full_loader  = torch.utils.data.DataLoader(train_dataset, batch_size=len(train_dataset), shuffle=False)"
   ]
  },
  {
   "cell_type": "code",
   "execution_count": 5,
   "id": "c0986517-dd2e-4342-950b-f39dfacb53ee",
   "metadata": {},
   "outputs": [],
   "source": [
    "all_images, all_r = next(iter(full_loader))"
   ]
  },
  {
   "cell_type": "code",
   "execution_count": 6,
   "id": "99008d1a-8841-4c95-9c85-99bad8990577",
   "metadata": {},
   "outputs": [],
   "source": [
    "embeddings = net.encode(all_images)"
   ]
  },
  {
   "cell_type": "code",
   "execution_count": 7,
   "id": "3d5438bc-6c09-484d-83f6-d067fecaab3b",
   "metadata": {},
   "outputs": [
    {
     "ename": "AttributeError",
     "evalue": "'FireAutoencoder' object has no attribute 'predict_reward'",
     "output_type": "error",
     "traceback": [
      "\u001b[0;31m---------------------------------------------------------------------------\u001b[0m",
      "\u001b[0;31mAttributeError\u001b[0m                            Traceback (most recent call last)",
      "Cell \u001b[0;32mIn[7], line 2\u001b[0m\n\u001b[1;32m      1\u001b[0m \u001b[38;5;28;01mwith\u001b[39;00m torch\u001b[38;5;241m.\u001b[39mno_grad():\n\u001b[0;32m----> 2\u001b[0m     rewards \u001b[38;5;241m=\u001b[39m \u001b[43mnet\u001b[49m\u001b[38;5;241;43m.\u001b[39;49m\u001b[43mpredict_reward\u001b[49m(embeddings)\n",
      "File \u001b[0;32m~/.pyenv/versions/3.11.6/lib/python3.11/site-packages/torch/nn/modules/module.py:1614\u001b[0m, in \u001b[0;36mModule.__getattr__\u001b[0;34m(self, name)\u001b[0m\n\u001b[1;32m   1612\u001b[0m     \u001b[38;5;28;01mif\u001b[39;00m name \u001b[38;5;129;01min\u001b[39;00m modules:\n\u001b[1;32m   1613\u001b[0m         \u001b[38;5;28;01mreturn\u001b[39;00m modules[name]\n\u001b[0;32m-> 1614\u001b[0m \u001b[38;5;28;01mraise\u001b[39;00m \u001b[38;5;167;01mAttributeError\u001b[39;00m(\u001b[38;5;124m\"\u001b[39m\u001b[38;5;124m'\u001b[39m\u001b[38;5;132;01m{}\u001b[39;00m\u001b[38;5;124m'\u001b[39m\u001b[38;5;124m object has no attribute \u001b[39m\u001b[38;5;124m'\u001b[39m\u001b[38;5;132;01m{}\u001b[39;00m\u001b[38;5;124m'\u001b[39m\u001b[38;5;124m\"\u001b[39m\u001b[38;5;241m.\u001b[39mformat(\n\u001b[1;32m   1615\u001b[0m     \u001b[38;5;28mtype\u001b[39m(\u001b[38;5;28mself\u001b[39m)\u001b[38;5;241m.\u001b[39m\u001b[38;5;18m__name__\u001b[39m, name))\n",
      "\u001b[0;31mAttributeError\u001b[0m: 'FireAutoencoder' object has no attribute 'predict_reward'"
     ]
    }
   ],
   "source": [
    "with torch.no_grad():\n",
    "    rewards = net.predict_reward(embeddings)"
   ]
  },
  {
   "cell_type": "code",
   "execution_count": 203,
   "id": "824d2618-c324-4cbf-8a1d-617430cbeb05",
   "metadata": {},
   "outputs": [
    {
     "data": {
      "image/png": "[encoded data removed]",
      "text/plain": [
       "<Figure size 640x480 with 1 Axes>"
      ]
     },
     "metadata": {},
     "output_type": "display_data"
    }
   ],
   "source": [
    "bins = np.arange(-1020, -500, 10)\n",
    "plt.hist(rewards.numpy(), bins=bins, align='left')\n",
    "plt.title('Distribución de las recompensas predecidas')\n",
    "plt.xlabel('Recompensa')\n",
    "plt.ylabel('Frecuencia')\n",
    "#plt.savefig(f\"linear_regresion/reward_classes_distr_{latent_dims}_{epochs}_sigmoid={sigmoid}.png.png\")\n",
    "plt.show()"
   ]
  },
  {
   "cell_type": "code",
   "execution_count": 204,
   "id": "ee7fbb08-7a58-4af3-9a48-feccb5386306",
   "metadata": {},
   "outputs": [],
   "source": [
    "def ann(x):\n",
    "    return net.predict_reward(torch.from_numpy(x).float()).detach().numpy()"
   ]
  },
  {
   "cell_type": "code",
   "execution_count": 205,
   "id": "307d0983-0c6a-4f2b-84ea-1a954b045768",
   "metadata": {},
   "outputs": [],
   "source": [
    "res = scipy.optimize.minimize(ann, x0=np.zeros(latent_dims))"
   ]
  },
  {
   "cell_type": "code",
   "execution_count": 206,
   "id": "1c16fa29-c4eb-494c-8699-f5df6d560096",
   "metadata": {},
   "outputs": [
    {
     "data": {
      "text/plain": [
       "  message: Optimization terminated successfully.\n",
       "  success: True\n",
       "   status: 0\n",
       "      fun: -0.5596663951873779\n",
       "        x: [ 0.000e+00  0.000e+00 ...  0.000e+00  0.000e+00]\n",
       "      nit: 0\n",
       "      jac: [ 0.000e+00  0.000e+00 ...  0.000e+00  0.000e+00]\n",
       " hess_inv: [[1 0 ... 0 0]\n",
       "            [0 1 ... 0 0]\n",
       "            ...\n",
       "            [0 0 ... 1 0]\n",
       "            [0 0 ... 0 1]]\n",
       "     nfev: 65\n",
       "     njev: 1"
      ]
     },
     "execution_count": 206,
     "metadata": {},
     "output_type": "execute_result"
    }
   ],
   "source": [
    "res"
   ]
  },
  {
   "cell_type": "code",
   "execution_count": 207,
   "id": "8598c197-ff10-4296-bffc-e4b6884cbb97",
   "metadata": {},
   "outputs": [],
   "source": [
    "minimum = torch.from_numpy(res.x)"
   ]
  },
  {
   "cell_type": "code",
   "execution_count": 208,
   "id": "8a969de4-660d-410a-8846-b4332f88ed2d",
   "metadata": {},
   "outputs": [
    {
     "data": {
      "text/plain": [
       "FireAutoencoder_reward(\n",
       "  (conv1): Conv2d(1, 32, kernel_size=(4, 4), stride=(2, 2), padding=(1, 1))\n",
       "  (conv2): Conv2d(32, 64, kernel_size=(4, 4), stride=(2, 2), padding=(1, 1))\n",
       "  (fc): Linear(in_features=1600, out_features=64, bias=True)\n",
       "  (fc_2): Linear(in_features=64, out_features=1600, bias=True)\n",
       "  (conv1_2): ConvTranspose2d(64, 32, kernel_size=(4, 4), stride=(2, 2), padding=(1, 1))\n",
       "  (conv2_2): ConvTranspose2d(32, 1, kernel_size=(4, 4), stride=(2, 2), padding=(1, 1))\n",
       "  (fc_r1): Linear(in_features=64, out_features=128, bias=True)\n",
       "  (fc_r2): Linear(in_features=128, out_features=64, bias=True)\n",
       "  (fc_r3): Linear(in_features=64, out_features=32, bias=True)\n",
       "  (fc_r4): Linear(in_features=32, out_features=1, bias=True)\n",
       ")"
      ]
     },
     "execution_count": 208,
     "metadata": {},
     "output_type": "execute_result"
    }
   ],
   "source": [
    "net.float()"
   ]
  },
  {
   "cell_type": "code",
   "execution_count": 209,
   "id": "e66c02ad-93cd-47a3-8db5-e802aaad23fa",
   "metadata": {},
   "outputs": [],
   "source": [
    "solution = net.decode(minimum.float().unsqueeze(0))"
   ]
  },
  {
   "cell_type": "code",
   "execution_count": 210,
   "id": "382b4439-95a7-41dd-9549-e0961bd66cb2",
   "metadata": {},
   "outputs": [
    {
     "data": {
      "text/plain": [
       "tensor([[[[0.1513, 0.1681, 0.1188, 0.1779, 0.1219, 0.1738, 0.0962, 0.1810,\n",
       "           0.0910, 0.1776, 0.1087, 0.1487, 0.0955, 0.1496, 0.1750, 0.1794,\n",
       "           0.1298, 0.1070, 0.0805, 0.2049],\n",
       "          [0.1738, 0.1956, 0.0831, 0.1237, 0.1708, 0.0638, 0.1336, 0.1839,\n",
       "           0.1008, 0.0740, 0.1206, 0.2361, 0.1024, 0.1837, 0.2010, 0.1499,\n",
       "           0.1399, 0.1161, 0.0538, 0.1688],\n",
       "          [0.1571, 0.0587, 0.0000, 0.0251, 0.0808, 0.0000, 0.0006, 0.1368,\n",
       "           0.0369, 0.0000, 0.1485, 0.0000, 0.0794, 0.0476, 0.0000, 0.1373,\n",
       "           0.1200, 0.1099, 0.0284, 0.1465],\n",
       "          [0.1560, 0.2017, 0.1279, 0.1344, 0.1239, 0.2072, 0.1530, 0.2209,\n",
       "           0.1416, 0.1614, 0.0402, 0.1237, 0.1986, 0.0886, 0.0241, 0.2528,\n",
       "           0.0457, 0.1313, 0.1340, 0.1219],\n",
       "          [0.1665, 0.0587, 0.1129, 0.0000, 0.0621, 0.0000, 0.0111, 0.1104,\n",
       "           0.0721, 0.1449, 0.0000, 0.0165, 0.1179, 0.0381, 0.0000, 0.1143,\n",
       "           0.0000, 0.1275, 0.0549, 0.1389],\n",
       "          [0.1222, 0.1622, 0.1568, 0.1142, 0.1463, 0.2149, 0.0518, 0.1442,\n",
       "           0.1426, 0.1355, 0.0436, 0.2283, 0.0901, 0.2307, 0.1463, 0.1235,\n",
       "           0.0473, 0.1868, 0.0085, 0.1463],\n",
       "          [0.0973, 0.1425, 0.0220, 0.0000, 0.0708, 0.0000, 0.0000, 0.0447,\n",
       "           0.0000, 0.0159, 0.0579, 0.0000, 0.0000, 0.0040, 0.0760, 0.0810,\n",
       "           0.0195, 0.1430, 0.0193, 0.2000],\n",
       "          [0.1592, 0.0915, 0.0792, 0.0699, 0.1110, 0.0956, 0.1238, 0.0813,\n",
       "           0.0529, 0.1747, 0.0533, 0.0500, 0.0837, 0.1585, 0.0343, 0.1061,\n",
       "           0.1633, 0.0753, 0.1972, 0.1436],\n",
       "          [0.1210, 0.0186, 0.0000, 0.0295, 0.0339, 0.0731, 0.1107, 0.0597,\n",
       "           0.0182, 0.1383, 0.0096, 0.1229, 0.0718, 0.0373, 0.0000, 0.0442,\n",
       "           0.0245, 0.1592, 0.0619, 0.1784],\n",
       "          [0.1088, 0.2111, 0.0000, 0.1005, 0.0716, 0.1221, 0.1896, 0.0878,\n",
       "           0.0515, 0.1473, 0.1434, 0.1044, 0.0701, 0.1274, 0.0366, 0.1421,\n",
       "           0.0470, 0.1319, 0.1936, 0.1455],\n",
       "          [0.0911, 0.1708, 0.0012, 0.0538, 0.2044, 0.0405, 0.0000, 0.0983,\n",
       "           0.1332, 0.0263, 0.1509, 0.1761, 0.0446, 0.0229, 0.0815, 0.0886,\n",
       "           0.0770, 0.0496, 0.0527, 0.1420],\n",
       "          [0.1337, 0.1966, 0.0787, 0.0000, 0.1421, 0.2168, 0.0309, 0.1552,\n",
       "           0.0241, 0.0658, 0.2553, 0.0469, 0.0148, 0.1108, 0.2163, 0.1014,\n",
       "           0.1741, 0.0444, 0.0459, 0.1754],\n",
       "          [0.0551, 0.0571, 0.0698, 0.1623, 0.1109, 0.1484, 0.0625, 0.0371,\n",
       "           0.0000, 0.0456, 0.0000, 0.0558, 0.0274, 0.0982, 0.1434, 0.0397,\n",
       "           0.0359, 0.0769, 0.1035, 0.1329],\n",
       "          [0.1313, 0.0826, 0.0599, 0.1238, 0.1540, 0.1030, 0.0590, 0.1098,\n",
       "           0.0217, 0.0975, 0.0000, 0.1090, 0.0438, 0.1013, 0.0009, 0.2171,\n",
       "           0.0539, 0.1543, 0.1345, 0.1457],\n",
       "          [0.0126, 0.0275, 0.0331, 0.0591, 0.0000, 0.0000, 0.0766, 0.0398,\n",
       "           0.1879, 0.1077, 0.0197, 0.0670, 0.0189, 0.1516, 0.0826, 0.0261,\n",
       "           0.0511, 0.0000, 0.1241, 0.1664],\n",
       "          [0.1163, 0.1733, 0.0000, 0.1334, 0.1098, 0.0413, 0.0898, 0.2539,\n",
       "           0.0902, 0.1798, 0.0915, 0.0275, 0.1259, 0.1677, 0.0280, 0.0806,\n",
       "           0.0345, 0.0471, 0.1141, 0.1141],\n",
       "          [0.1504, 0.0729, 0.0053, 0.0000, 0.0847, 0.0264, 0.0298, 0.1265,\n",
       "           0.0189, 0.1405, 0.0989, 0.0266, 0.1090, 0.1092, 0.0891, 0.0624,\n",
       "           0.0000, 0.0464, 0.0273, 0.1580],\n",
       "          [0.1054, 0.2127, 0.1724, 0.1689, 0.2044, 0.1826, 0.1376, 0.1908,\n",
       "           0.1168, 0.1771, 0.0841, 0.0929, 0.0470, 0.0335, 0.1517, 0.1752,\n",
       "           0.0393, 0.2189, 0.1674, 0.1321],\n",
       "          [0.0832, 0.0019, 0.0000, 0.0000, 0.0000, 0.0590, 0.0056, 0.1413,\n",
       "           0.0768, 0.1050, 0.0747, 0.1097, 0.0700, 0.0664, 0.0184, 0.0758,\n",
       "           0.0396, 0.1351, 0.0367, 0.1725],\n",
       "          [0.1419, 0.1729, 0.1170, 0.1677, 0.1022, 0.1545, 0.1111, 0.2041,\n",
       "           0.1433, 0.2150, 0.1842, 0.1854, 0.1073, 0.1771, 0.1124, 0.2298,\n",
       "           0.0896, 0.1955, 0.1051, 0.1800]]]], grad_fn=<ReluBackward0>)"
      ]
     },
     "execution_count": 210,
     "metadata": {},
     "output_type": "execute_result"
    }
   ],
   "source": [
    "solution"
   ]
  },
  {
   "cell_type": "code",
   "execution_count": 211,
   "id": "12848f4c-25be-414b-ba7b-98aeedfedb54",
   "metadata": {},
   "outputs": [],
   "source": [
    "if sigmoid:\n",
    "    solution[solution>=0.5] = 1\n",
    "    solution[solution<=0.5] = 0\n",
    "else:\n",
    "    solution[solution>0] = 1"
   ]
  },
  {
   "cell_type": "code",
   "execution_count": 212,
   "id": "05890e8c-4b29-4df9-88ab-cfad05abacb5",
   "metadata": {},
   "outputs": [
    {
     "data": {
      "image/png": "[encoded data removed]",
      "text/plain": [
       "<Figure size 640x480 with 2 Axes>"
      ]
     },
     "metadata": {},
     "output_type": "display_data"
    }
   ],
   "source": [
    "with torch.no_grad():\n",
    "        plt.title('Reconstrucción del mínimo')\n",
    "        plt.imshow(solution[0][0].numpy())\n",
    "        plt.savefig(f\"linear_regresion/minimum_decoding_{latent_dims}_{epochs}_sigmoid={sigmoid}.png\")\n",
    "        plt.colorbar()\n",
    "        plt.show()"
   ]
  },
  {
   "cell_type": "code",
   "execution_count": 213,
   "id": "5a0255b4-0c95-46b5-b5ce-e73c3670b480",
   "metadata": {},
   "outputs": [
    {
     "name": "stdout",
     "output_type": "stream",
     "text": [
      "array([[1., 1., 1., 1., 1., 1., 1., 1., 1., 1., 1., 1., 1., 1., 1., 1.,\n",
      "        1., 1., 1., 1.],\n",
      "       [1., 1., 1., 1., 1., 1., 1., 1., 1., 1., 1., 1., 1., 1., 1., 1.,\n",
      "        1., 1., 1., 1.],\n",
      "       [1., 1., 0., 1., 1., 0., 1., 1., 1., 0., 1., 0., 1., 1., 0., 1.,\n",
      "        1., 1., 1., 1.],\n",
      "       [1., 1., 1., 1., 1., 1., 1., 1., 1., 1., 1., 1., 1., 1., 1., 1.,\n",
      "        1., 1., 1., 1.],\n",
      "       [1., 1., 1., 0., 1., 0., 1., 1., 1., 1., 0., 1., 1., 1., 0., 1.,\n",
      "        0., 1., 1., 1.],\n",
      "       [1., 1., 1., 1., 1., 1., 1., 1., 1., 1., 1., 1., 1., 1., 1., 1.,\n",
      "        1., 1., 1., 1.],\n",
      "       [1., 1., 1., 0., 1., 0., 0., 1., 0., 1., 1., 0., 0., 1., 1., 1.,\n",
      "        1., 1., 1., 1.],\n",
      "       [1., 1., 1., 1., 1., 1., 1., 1., 1., 1., 1., 1., 1., 1., 1., 1.,\n",
      "        1., 1., 1., 1.],\n",
      "       [1., 1., 0., 1., 1., 1., 1., 1., 1., 1., 1., 1., 1., 1., 0., 1.,\n",
      "        1., 1., 1., 1.],\n",
      "       [1., 1., 0., 1., 1., 1., 1., 1., 1., 1., 1., 1., 1., 1., 1., 1.,\n",
      "        1., 1., 1., 1.],\n",
      "       [1., 1., 1., 1., 1., 1., 0., 1., 1., 1., 1., 1., 1., 1., 1., 1.,\n",
      "        1., 1., 1., 1.],\n",
      "       [1., 1., 1., 0., 1., 1., 1., 1., 1., 1., 1., 1., 1., 1., 1., 1.,\n",
      "        1., 1., 1., 1.],\n",
      "       [1., 1., 1., 1., 1., 1., 1., 1., 0., 1., 0., 1., 1., 1., 1., 1.,\n",
      "        1., 1., 1., 1.],\n",
      "       [1., 1., 1., 1., 1., 1., 1., 1., 1., 1., 0., 1., 1., 1., 1., 1.,\n",
      "        1., 1., 1., 1.],\n",
      "       [1., 1., 1., 1., 0., 0., 1., 1., 1., 1., 1., 1., 1., 1., 1., 1.,\n",
      "        1., 0., 1., 1.],\n",
      "       [1., 1., 0., 1., 1., 1., 1., 1., 1., 1., 1., 1., 1., 1., 1., 1.,\n",
      "        1., 1., 1., 1.],\n",
      "       [1., 1., 1., 0., 1., 1., 1., 1., 1., 1., 1., 1., 1., 1., 1., 1.,\n",
      "        0., 1., 1., 1.],\n",
      "       [1., 1., 1., 1., 1., 1., 1., 1., 1., 1., 1., 1., 1., 1., 1., 1.,\n",
      "        1., 1., 1., 1.],\n",
      "       [1., 1., 0., 0., 0., 1., 1., 1., 1., 1., 1., 1., 1., 1., 1., 1.,\n",
      "        1., 1., 1., 1.],\n",
      "       [1., 1., 1., 1., 1., 1., 1., 1., 1., 1., 1., 1., 1., 1., 1., 1.,\n",
      "        1., 1., 1., 1.]], dtype=float32)\n"
     ]
    }
   ],
   "source": [
    "with torch.no_grad():\n",
    "    print(repr(solution[0][0].numpy()))"
   ]
  }
 ],
 "metadata": {
  "kernelspec": {
   "display_name": "Python 3 (ipykernel)",
   "language": "python",
   "name": "python3"
  },
  "language_info": {
   "codemirror_mode": {
    "name": "ipython",
    "version": 3
   },
   "file_extension": ".py",
   "mimetype": "text/x-python",
   "name": "python",
   "nbconvert_exporter": "python",
   "pygments_lexer": "ipython3",
   "version": "3.11.6"
  }
 },
 "nbformat": 4,
 "nbformat_minor": 5
}
