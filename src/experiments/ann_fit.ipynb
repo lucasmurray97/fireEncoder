{
 "cells": [
  {
   "cell_type": "code",
   "execution_count": 165,
   "id": "ac90b283-e00d-49ec-b983-da8f86772f9c",
   "metadata": {},
   "outputs": [],
   "source": [
    "import torch\n",
    "import torch.nn as nn\n",
    "import torchvision\n",
    "import torchvision.transforms as T\n",
    "import torchvision.datasets as D\n",
    "import torch.nn.functional as F\n",
    "import numpy as np\n",
    "import pickle\n",
    "from matplotlib import pyplot as plt\n",
    "from utils.utils import MyDataset, show_image, visualise_output\n",
    "import sys\n",
    "sys.path.append(\"..\")\n",
    "from networks.autoencoder import FireAutoencoder\n",
    "from networks.autoencoder_reward import FireAutoencoder_reward\n",
    "from networks.ann_reward import ANN\n",
    "import matplotlib\n",
    "from sklearn.linear_model import LinearRegression\n",
    "from sklearn.metrics import mean_squared_error\n",
    "import scipy\n",
    "from torch.autograd import Variable "
   ]
  },
  {
   "cell_type": "code",
   "execution_count": 2,
   "id": "f12fd07a-97f1-4ac7-b18e-63331acd9fa8",
   "metadata": {},
   "outputs": [],
   "source": [
    "dataset = MyDataset(root='../data/complete_random/homo_2/Sub20x20_full_grid_.pkl',\n",
    "                             tform=lambda x: torch.from_numpy(x, dtype=torch.float))"
   ]
  },
  {
   "cell_type": "code",
   "execution_count": 285,
   "id": "e7276ce5-32a8-4681-a7bf-184295d2b189",
   "metadata": {},
   "outputs": [
    {
     "data": {
      "text/plain": [
       "<All keys matched successfully>"
      ]
     },
     "execution_count": 285,
     "metadata": {},
     "output_type": "execute_result"
    }
   ],
   "source": [
    "latent_dims = 256\n",
    "capacity_ = latent_dims//2\n",
    "capacity = 256\n",
    "input_size = 20\n",
    "epochs = 100\n",
    "sigmoid = False\n",
    "net = FireAutoencoder(capacity_, input_size, latent_dims, sigmoid)\n",
    "reward_ann = ANN(latent_dims, capacity)\n",
    "net.load_state_dict(torch.load(f'weights/v1/homo_2_sub20x20_latent={latent_dims}_capacity={capacity_}_{epochs}_sigmoid={sigmoid}.pth', map_location=torch.device('cpu')))\n",
    "reward_ann.load_state_dict(torch.load(f'weights/v1/ann_capacity={capacity}_50_sigmoid={sigmoid}.pth', map_location=torch.device('cpu')))"
   ]
  },
  {
   "cell_type": "code",
   "execution_count": 286,
   "id": "fbac011b-a01e-4cd5-bb38-eb4f5b5306cb",
   "metadata": {},
   "outputs": [],
   "source": [
    "train_dataset, validation_dataset, test_dataset =torch.utils.data.random_split(dataset, [0.9, 0.05, 0.05])"
   ]
  },
  {
   "cell_type": "code",
   "execution_count": 287,
   "id": "0ddc3ba1-6561-4275-9259-feebd164c5fd",
   "metadata": {},
   "outputs": [],
   "source": [
    "full_loader  = torch.utils.data.DataLoader(train_dataset, batch_size=len(train_dataset), shuffle=False)"
   ]
  },
  {
   "cell_type": "code",
   "execution_count": 288,
   "id": "c0986517-dd2e-4342-950b-f39dfacb53ee",
   "metadata": {},
   "outputs": [],
   "source": [
    "all_images, all_r = next(iter(full_loader))"
   ]
  },
  {
   "cell_type": "code",
   "execution_count": 289,
   "id": "99008d1a-8841-4c95-9c85-99bad8990577",
   "metadata": {},
   "outputs": [],
   "source": [
    "embeddings = net.encode(all_images)"
   ]
  },
  {
   "cell_type": "code",
   "execution_count": 290,
   "id": "897bbb74-756e-490b-9041-86a2d7cf2837",
   "metadata": {},
   "outputs": [],
   "source": [
    "with torch.no_grad():\n",
    "    rewards = reward_ann(embeddings)"
   ]
  },
  {
   "cell_type": "code",
   "execution_count": 291,
   "id": "824d2618-c324-4cbf-8a1d-617430cbeb05",
   "metadata": {},
   "outputs": [
    {
     "data": {
      "image/png": "[encoded data removed]",
      "text/plain": [
       "<Figure size 640x480 with 1 Axes>"
      ]
     },
     "metadata": {},
     "output_type": "display_data"
    }
   ],
   "source": [
    "bins = np.arange(-1020, -500, 10)\n",
    "plt.hist(rewards.squeeze().numpy(), bins=bins, align='left')\n",
    "plt.title('Distribución de las recompensas predecidas')\n",
    "plt.xlabel('Recompensa')\n",
    "plt.ylabel('Frecuencia')\n",
    "#plt.savefig(f\"linear_regresion/reward_classes_distr_{latent_dims}_{epochs}_sigmoid={sigmoid}.png.png\")\n",
    "plt.show()"
   ]
  },
  {
   "cell_type": "code",
   "execution_count": 292,
   "id": "1ab162a0-22ef-45f9-a847-b1724de3642b",
   "metadata": {},
   "outputs": [],
   "source": [
    "minimum = Variable(torch.zeros(1, 256), requires_grad=True) "
   ]
  },
  {
   "cell_type": "code",
   "execution_count": 293,
   "id": "47e11db0-fc10-4658-985f-b34afae8089f",
   "metadata": {},
   "outputs": [],
   "source": [
    "optimizer = torch.optim.Adam([minimum], lr = 0.001)"
   ]
  },
  {
   "cell_type": "code",
   "execution_count": 294,
   "id": "307d0983-0c6a-4f2b-84ea-1a954b045768",
   "metadata": {},
   "outputs": [],
   "source": [
    "for i in range(10000):\n",
    "    my_single_scalar = -reward_ann(minimum[0])\n",
    "    optimizer.zero_grad()\n",
    "    my_single_scalar.backward()\n",
    "    optimizer.step()"
   ]
  },
  {
   "cell_type": "code",
   "execution_count": 295,
   "id": "cb936a65-214c-47ca-b09c-28c94bb551f2",
   "metadata": {},
   "outputs": [
    {
     "data": {
      "text/plain": [
       "tensor([14.9128], grad_fn=<NegBackward0>)"
      ]
     },
     "execution_count": 295,
     "metadata": {},
     "output_type": "execute_result"
    }
   ],
   "source": [
    "my_single_scalar"
   ]
  },
  {
   "cell_type": "code",
   "execution_count": 296,
   "id": "8a969de4-660d-410a-8846-b4332f88ed2d",
   "metadata": {},
   "outputs": [
    {
     "data": {
      "text/plain": [
       "FireAutoencoder(\n",
       "  (conv1): Conv2d(1, 128, kernel_size=(4, 4), stride=(2, 2), padding=(1, 1))\n",
       "  (conv2): Conv2d(128, 256, kernel_size=(4, 4), stride=(2, 2), padding=(1, 1))\n",
       "  (fc): Linear(in_features=6400, out_features=256, bias=True)\n",
       "  (fc_2): Linear(in_features=256, out_features=6400, bias=True)\n",
       "  (conv1_2): ConvTranspose2d(256, 128, kernel_size=(4, 4), stride=(2, 2), padding=(1, 1))\n",
       "  (conv2_2): ConvTranspose2d(128, 1, kernel_size=(4, 4), stride=(2, 2), padding=(1, 1))\n",
       ")"
      ]
     },
     "execution_count": 296,
     "metadata": {},
     "output_type": "execute_result"
    }
   ],
   "source": [
    "net.float()"
   ]
  },
  {
   "cell_type": "code",
   "execution_count": 297,
   "id": "e66c02ad-93cd-47a3-8db5-e802aaad23fa",
   "metadata": {},
   "outputs": [],
   "source": [
    "solution = net.decode(minimum.float().unsqueeze(0))"
   ]
  },
  {
   "cell_type": "code",
   "execution_count": 298,
   "id": "12848f4c-25be-414b-ba7b-98aeedfedb54",
   "metadata": {},
   "outputs": [],
   "source": [
    "if sigmoid:\n",
    "    solution[solution>=0.5] = 1\n",
    "    solution[solution<0.5] = 0\n",
    "else:\n",
    "    solution[solution>0] = 1"
   ]
  },
  {
   "cell_type": "code",
   "execution_count": 301,
   "id": "05890e8c-4b29-4df9-88ab-cfad05abacb5",
   "metadata": {},
   "outputs": [
    {
     "data": {
      "image/png": "[encoded data removed]",
      "text/plain": [
       "<Figure size 640x480 with 2 Axes>"
      ]
     },
     "metadata": {},
     "output_type": "display_data"
    }
   ],
   "source": [
    "with torch.no_grad():\n",
    "        plt.title('Reconstrucción del mínimo')\n",
    "        plt.imshow(solution[0][0].numpy())\n",
    "        plt.colorbar()\n",
    "        plt.savefig(f\"ann/v1/minimum_decoding_{capacity}_{epochs}_sigmoid={sigmoid}.png\")\n",
    "        plt.show()"
   ]
  },
  {
   "cell_type": "code",
   "execution_count": 300,
   "id": "5a0255b4-0c95-46b5-b5ce-e73c3670b480",
   "metadata": {},
   "outputs": [
    {
     "name": "stdout",
     "output_type": "stream",
     "text": [
      "array([[0., 0., 0., 0., 0., 0., 0., 0., 0., 0., 0., 0., 0., 0., 0., 0.,\n",
      "        0., 0., 0., 0.],\n",
      "       [0., 0., 0., 0., 0., 0., 0., 0., 0., 0., 0., 1., 0., 0., 0., 0.,\n",
      "        0., 0., 0., 1.],\n",
      "       [0., 0., 0., 0., 0., 0., 0., 0., 0., 0., 0., 0., 0., 0., 0., 0.,\n",
      "        0., 0., 0., 0.],\n",
      "       [0., 0., 0., 0., 0., 0., 0., 0., 0., 0., 0., 0., 0., 0., 0., 0.,\n",
      "        0., 0., 0., 0.],\n",
      "       [0., 0., 0., 0., 0., 0., 0., 0., 0., 0., 1., 0., 0., 0., 0., 0.,\n",
      "        0., 0., 0., 0.],\n",
      "       [0., 0., 0., 0., 0., 0., 0., 0., 0., 0., 0., 0., 0., 0., 0., 0.,\n",
      "        1., 0., 0., 0.],\n",
      "       [0., 0., 0., 0., 0., 0., 0., 0., 0., 0., 1., 1., 0., 1., 0., 0.,\n",
      "        0., 0., 0., 0.],\n",
      "       [0., 0., 0., 0., 0., 0., 0., 0., 0., 0., 0., 1., 1., 0., 0., 0.,\n",
      "        0., 0., 0., 0.],\n",
      "       [0., 0., 0., 0., 0., 0., 0., 0., 0., 0., 1., 1., 1., 1., 0., 0.,\n",
      "        0., 0., 0., 0.],\n",
      "       [0., 0., 0., 0., 0., 0., 0., 0., 0., 0., 1., 0., 1., 1., 0., 0.,\n",
      "        0., 0., 0., 0.],\n",
      "       [0., 0., 0., 0., 0., 1., 1., 1., 1., 1., 1., 1., 0., 0., 1., 0.,\n",
      "        0., 0., 0., 0.],\n",
      "       [1., 0., 0., 0., 0., 0., 0., 1., 1., 1., 1., 1., 1., 0., 1., 0.,\n",
      "        0., 0., 0., 0.],\n",
      "       [0., 0., 0., 0., 0., 0., 0., 0., 1., 0., 1., 0., 1., 1., 0., 0.,\n",
      "        0., 0., 0., 0.],\n",
      "       [0., 0., 0., 0., 0., 1., 0., 1., 1., 0., 1., 1., 0., 0., 0., 0.,\n",
      "        0., 0., 0., 1.],\n",
      "       [0., 0., 0., 0., 0., 0., 0., 1., 0., 0., 1., 0., 0., 1., 1., 0.,\n",
      "        0., 0., 0., 0.],\n",
      "       [0., 0., 0., 0., 0., 0., 0., 0., 0., 0., 0., 0., 0., 0., 0., 0.,\n",
      "        0., 0., 1., 0.],\n",
      "       [0., 0., 0., 0., 0., 0., 0., 0., 1., 0., 0., 0., 0., 0., 0., 0.,\n",
      "        0., 0., 0., 0.],\n",
      "       [0., 0., 0., 0., 0., 0., 0., 0., 0., 0., 0., 0., 0., 0., 0., 0.,\n",
      "        0., 0., 0., 0.],\n",
      "       [0., 0., 1., 0., 0., 0., 0., 0., 0., 0., 0., 0., 0., 0., 0., 0.,\n",
      "        0., 0., 0., 0.],\n",
      "       [0., 0., 0., 0., 0., 0., 0., 0., 0., 0., 0., 0., 0., 0., 0., 0.,\n",
      "        0., 0., 0., 0.]], dtype=float32)\n"
     ]
    }
   ],
   "source": [
    "with torch.no_grad():\n",
    "    print(repr(solution[0][0].numpy()))"
   ]
  },
  {
   "cell_type": "code",
   "execution_count": null,
   "id": "6c223a82-2b6a-4746-a273-f6110d4e9cf0",
   "metadata": {},
   "outputs": [],
   "source": []
  },
  {
   "cell_type": "code",
   "execution_count": null,
   "id": "ea32389c-bc8b-4181-8601-6204f40498be",
   "metadata": {},
   "outputs": [],
   "source": []
  }
 ],
 "metadata": {
  "kernelspec": {
   "display_name": "Python 3 (ipykernel)",
   "language": "python",
   "name": "python3"
  },
  "language_info": {
   "codemirror_mode": {
    "name": "ipython",
    "version": 3
   },
   "file_extension": ".py",
   "mimetype": "text/x-python",
   "name": "python",
   "nbconvert_exporter": "python",
   "pygments_lexer": "ipython3",
   "version": "3.11.6"
  }
 },
 "nbformat": 4,
 "nbformat_minor": 5
}
